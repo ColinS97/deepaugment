{
 "cells": [
  {
   "cell_type": "code",
   "execution_count": 4,
   "metadata": {},
   "outputs": [
    {
     "name": "stderr",
     "output_type": "stream",
     "text": [
      "/Users/colins/miniforge3/envs/tf-cv-deepaug/lib/python3.8/site-packages/keras/optimizer_v2/rmsprop.py:130: UserWarning: The `lr` argument is deprecated, use `learning_rate` instead.\n",
      "  super(RMSprop, self).__init__(name, **kwargs)\n"
     ]
    }
   ],
   "source": [
    "from tensorflow import keras\n",
    "from keras import optimizers\n",
    "#optimizer=keras.optimizers.RMSprop(learning_rate=0.01)\n",
    "optimizer = keras.optimizers.RMSprop(lr=0.001, decay=1e-6)"
   ]
  },
  {
   "cell_type": "code",
   "execution_count": 1,
   "metadata": {},
   "outputs": [
    {
     "ename": "NameError",
     "evalue": "name 'keras' is not defined",
     "output_type": "error",
     "traceback": [
      "\u001b[0;31m---------------------------------------------------------------------------\u001b[0m",
      "\u001b[0;31mNameError\u001b[0m                                 Traceback (most recent call last)",
      "\u001b[1;32m/Users/colins/Documents/Master AI/Semester 5/Active Learning Projekt/git/deepaugment/deepaugment/test_deepaug.ipynb Cell 2'\u001b[0m in \u001b[0;36m<cell line: 2>\u001b[0;34m()\u001b[0m\n\u001b[1;32m      <a href='vscode-notebook-cell:/Users/colins/Documents/Master%20AI/Semester%205/Active%20Learning%20Projekt/git/deepaugment/deepaugment/test_deepaug.ipynb#ch0000001?line=0'>1</a>\u001b[0m \u001b[39mfrom\u001b[39;00m \u001b[39mkeras\u001b[39;00m \u001b[39mimport\u001b[39;00m optimizers\n\u001b[0;32m----> <a href='vscode-notebook-cell:/Users/colins/Documents/Master%20AI/Semester%205/Active%20Learning%20Projekt/git/deepaugment/deepaugment/test_deepaug.ipynb#ch0000001?line=1'>2</a>\u001b[0m optimizer\u001b[39m=\u001b[39mkeras\u001b[39m.\u001b[39moptimizers\u001b[39m.\u001b[39mRMSprop(learning_rate\u001b[39m=\u001b[39m\u001b[39m0.01\u001b[39m)\n",
      "\u001b[0;31mNameError\u001b[0m: name 'keras' is not defined"
     ]
    }
   ],
   "source": [
    "from keras import optimizers\n",
    "optimizer=keras.optimizers.RMSprop(learning_rate=0.01)\n",
    "\n",
    "optimizers.RMSprop(lr=0.001, decay=1e-6)"
   ]
  },
  {
   "cell_type": "code",
   "execution_count": 1,
   "metadata": {},
   "outputs": [
    {
     "name": "stdout",
     "output_type": "stream",
     "text": [
      "/Users/colins/miniforge3/envs/tf-cv-deepaug/bin/pip\n"
     ]
    }
   ],
   "source": [
    "!which pip"
   ]
  },
  {
   "cell_type": "code",
   "execution_count": null,
   "metadata": {},
   "outputs": [],
   "source": [
    "!pip install -e git+https://github.com/ColinS97/deepaugment.git@c50db594f3d87ff8acf2eddb9e5c11764f402209#egg=deepaugment"
   ]
  },
  {
   "cell_type": "code",
   "execution_count": 3,
   "metadata": {},
   "outputs": [
    {
     "name": "stdout",
     "output_type": "stream",
     "text": [
      "Collecting imgaug==0.2.7\n",
      "  Using cached imgaug-0.2.7-py3-none-any.whl (644 kB)\n",
      "Requirement already satisfied: numpy>=1.7.0 in /Users/colins/miniforge3/envs/tf-cv-deepaug/lib/python3.8/site-packages (from imgaug==0.2.7) (1.21.5)\n",
      "Collecting Shapely\n",
      "  Downloading Shapely-1.8.1.post1-cp38-cp38-macosx_11_0_arm64.whl (1.0 MB)\n",
      "\u001b[2K     \u001b[90m━━━━━━━━━━━━━━━━━━━━━━━━━━━━━━━━━━━━━━━━\u001b[0m \u001b[32m1.0/1.0 MB\u001b[0m \u001b[31m5.8 MB/s\u001b[0m eta \u001b[36m0:00:00\u001b[0m00:01\u001b[0m00:01\u001b[0m\n",
      "\u001b[?25hCollecting scikit-image>=0.11.0\n",
      "  Downloading scikit_image-0.19.2-cp38-cp38-macosx_12_0_arm64.whl (12.3 MB)\n",
      "\u001b[2K     \u001b[90m━━━━━━━━━━━━━━━━━━━━━━━━━━━━━━━━━━━━━━━━\u001b[0m \u001b[32m12.3/12.3 MB\u001b[0m \u001b[31m12.8 MB/s\u001b[0m eta \u001b[36m0:00:00\u001b[0m00:01\u001b[0m00:01\u001b[0m\n",
      "\u001b[?25hRequirement already satisfied: Pillow in /Users/colins/miniforge3/envs/tf-cv-deepaug/lib/python3.8/site-packages (from imgaug==0.2.7) (9.1.0)\n",
      "Requirement already satisfied: scipy in /Users/colins/miniforge3/envs/tf-cv-deepaug/lib/python3.8/site-packages (from imgaug==0.2.7) (1.8.0)\n",
      "Requirement already satisfied: six in /Users/colins/miniforge3/envs/tf-cv-deepaug/lib/python3.8/site-packages (from imgaug==0.2.7) (1.16.0)\n",
      "Collecting imageio\n",
      "  Downloading imageio-2.16.1-py3-none-any.whl (3.3 MB)\n",
      "\u001b[2K     \u001b[90m━━━━━━━━━━━━━━━━━━━━━━━━━━━━━━━━━━━━━━━━\u001b[0m \u001b[32m3.3/3.3 MB\u001b[0m \u001b[31m12.3 MB/s\u001b[0m eta \u001b[36m0:00:00\u001b[0m00:01\u001b[0m00:01\u001b[0m\n",
      "\u001b[?25hRequirement already satisfied: matplotlib in /Users/colins/miniforge3/envs/tf-cv-deepaug/lib/python3.8/site-packages (from imgaug==0.2.7) (3.5.1)\n",
      "Collecting networkx>=2.2\n",
      "  Downloading networkx-2.7.1-py3-none-any.whl (2.0 MB)\n",
      "\u001b[2K     \u001b[90m━━━━━━━━━━━━━━━━━━━━━━━━━━━━━━━━━━━━━━━━\u001b[0m \u001b[32m2.0/2.0 MB\u001b[0m \u001b[31m11.4 MB/s\u001b[0m eta \u001b[36m0:00:00\u001b[0m00:01\u001b[0m00:01\u001b[0m\n",
      "\u001b[?25hCollecting tifffile>=2019.7.26\n",
      "  Downloading tifffile-2022.3.25-py3-none-any.whl (179 kB)\n",
      "\u001b[2K     \u001b[90m━━━━━━━━━━━━━━━━━━━━━━━━━━━━━━━━━━━━━━━\u001b[0m \u001b[32m179.9/179.9 KB\u001b[0m \u001b[31m5.2 MB/s\u001b[0m eta \u001b[36m0:00:00\u001b[0m\n",
      "\u001b[?25hRequirement already satisfied: packaging>=20.0 in /Users/colins/miniforge3/envs/tf-cv-deepaug/lib/python3.8/site-packages (from scikit-image>=0.11.0->imgaug==0.2.7) (21.3)\n",
      "Collecting PyWavelets>=1.1.1\n",
      "  Downloading PyWavelets-1.3.0-cp38-cp38-macosx_11_0_arm64.whl (4.3 MB)\n",
      "\u001b[2K     \u001b[90m━━━━━━━━━━━━━━━━━━━━━━━━━━━━━━━━━━━━━━━━\u001b[0m \u001b[32m4.3/4.3 MB\u001b[0m \u001b[31m12.3 MB/s\u001b[0m eta \u001b[36m0:00:00\u001b[0m00:01\u001b[0m00:01\u001b[0m\n",
      "\u001b[?25hRequirement already satisfied: pyparsing>=2.2.1 in /Users/colins/miniforge3/envs/tf-cv-deepaug/lib/python3.8/site-packages (from matplotlib->imgaug==0.2.7) (3.0.7)\n",
      "Requirement already satisfied: python-dateutil>=2.7 in /Users/colins/miniforge3/envs/tf-cv-deepaug/lib/python3.8/site-packages (from matplotlib->imgaug==0.2.7) (2.8.2)\n",
      "Requirement already satisfied: kiwisolver>=1.0.1 in /Users/colins/miniforge3/envs/tf-cv-deepaug/lib/python3.8/site-packages (from matplotlib->imgaug==0.2.7) (1.4.2)\n",
      "Requirement already satisfied: cycler>=0.10 in /Users/colins/miniforge3/envs/tf-cv-deepaug/lib/python3.8/site-packages (from matplotlib->imgaug==0.2.7) (0.11.0)\n",
      "Requirement already satisfied: fonttools>=4.22.0 in /Users/colins/miniforge3/envs/tf-cv-deepaug/lib/python3.8/site-packages (from matplotlib->imgaug==0.2.7) (4.31.2)\n",
      "Installing collected packages: tifffile, Shapely, PyWavelets, networkx, imageio, scikit-image, imgaug\n",
      "Successfully installed PyWavelets-1.3.0 Shapely-1.8.1.post1 imageio-2.16.1 imgaug-0.2.7 networkx-2.7.1 scikit-image-0.19.2 tifffile-2022.3.25\n"
     ]
    }
   ],
   "source": [
    "!pip install imgaug==0.2.7"
   ]
  },
  {
   "cell_type": "code",
   "execution_count": null,
   "metadata": {},
   "outputs": [],
   "source": []
  }
 ],
 "metadata": {
  "interpreter": {
   "hash": "db86ac6a4485ffe52725bd125bedc4d3eee44f78009ec531f859beb80154cdb0"
  },
  "kernelspec": {
   "display_name": "Python 3.8.13 ('tf-cv-deepaug')",
   "language": "python",
   "name": "python3"
  },
  "language_info": {
   "codemirror_mode": {
    "name": "ipython",
    "version": 3
   },
   "file_extension": ".py",
   "mimetype": "text/x-python",
   "name": "python",
   "nbconvert_exporter": "python",
   "pygments_lexer": "ipython3",
   "version": "3.8.13"
  },
  "orig_nbformat": 4
 },
 "nbformat": 4,
 "nbformat_minor": 2
}
