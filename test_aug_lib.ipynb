{
 "cells": [
  {
   "cell_type": "code",
   "execution_count": 1,
   "metadata": {},
   "outputs": [],
   "source": [
    "import aug_lib"
   ]
  },
  {
   "cell_type": "code",
   "execution_count": 2,
   "metadata": {},
   "outputs": [
    {
     "data": {
      "text/plain": [
       "30"
      ]
     },
     "execution_count": 2,
     "metadata": {},
     "output_type": "execute_result"
    }
   ],
   "source": [
    "aug_lib.PARAMETER_MAX"
   ]
  },
  {
   "cell_type": "code",
   "execution_count": 3,
   "metadata": {},
   "outputs": [],
   "source": [
    "import PIL"
   ]
  },
  {
   "cell_type": "code",
   "execution_count": 14,
   "metadata": {},
   "outputs": [
    {
     "name": "stdout",
     "output_type": "stream",
     "text": [
      "<identity>\n",
      "<identity>\n",
      "<AutoContrast>\n",
      "<Equalize>\n",
      "<Rotate>\n",
      "<Solarize>\n",
      "<Color>\n",
      "<Posterize>\n",
      "<Contrast>\n",
      "<Brightness>\n",
      "<Sharpness>\n",
      "<ShearX>\n",
      "<ShearY>\n",
      "<TranslateX>\n",
      "<TranslateY>\n"
     ]
    }
   ],
   "source": [
    "print(str(aug_lib.ALL_TRANSFORMS[0]))\n",
    "\n",
    "ALL_TRANSFORMS_STRINGS = []\n",
    "\n",
    "for transform in aug_lib.ALL_TRANSFORMS:\n",
    "    ALL_TRANSFORMS_STRINGS.append(str(transform))\n",
    "    print(str(transform))"
   ]
  },
  {
   "cell_type": "code",
   "execution_count": 15,
   "metadata": {},
   "outputs": [
    {
     "data": {
      "text/plain": [
       "['<identity>',\n",
       " '<AutoContrast>',\n",
       " '<Equalize>',\n",
       " '<Rotate>',\n",
       " '<Solarize>',\n",
       " '<Color>',\n",
       " '<Posterize>',\n",
       " '<Contrast>',\n",
       " '<Brightness>',\n",
       " '<Sharpness>',\n",
       " '<ShearX>',\n",
       " '<ShearY>',\n",
       " '<TranslateX>',\n",
       " '<TranslateY>']"
      ]
     },
     "execution_count": 15,
     "metadata": {},
     "output_type": "execute_result"
    }
   ],
   "source": [
    "ALL_TRANSFORMS_STRINGS"
   ]
  },
  {
   "cell_type": "code",
   "execution_count": null,
   "metadata": {},
   "outputs": [],
   "source": [
    "aug_lib.identity"
   ]
  },
  {
   "cell_type": "code",
   "execution_count": 5,
   "metadata": {},
   "outputs": [],
   "source": [
    "from PIL import Image\n",
    "import aug_lib\n",
    "im = Image.open(\"Screenshot.png\")\n",
    "imLow = aug_lib.identity.pil_transformer(1.0, 0)(im)\n",
    "imHigh = aug_lib.identity.pil_transformer(1.0, 30)(im)\n"
   ]
  },
  {
   "cell_type": "code",
   "execution_count": 6,
   "metadata": {},
   "outputs": [
    {
     "data": {
      "text/plain": [
       "True"
      ]
     },
     "execution_count": 6,
     "metadata": {},
     "output_type": "execute_result"
    }
   ],
   "source": [
    "imLow == imHigh"
   ]
  },
  {
   "cell_type": "code",
   "execution_count": null,
   "metadata": {},
   "outputs": [],
   "source": []
  }
 ],
 "metadata": {
  "kernelspec": {
   "display_name": "Python 3.8.13 ('tf-cv-deepaug')",
   "language": "python",
   "name": "python3"
  },
  "language_info": {
   "codemirror_mode": {
    "name": "ipython",
    "version": 3
   },
   "file_extension": ".py",
   "mimetype": "text/x-python",
   "name": "python",
   "nbconvert_exporter": "python",
   "pygments_lexer": "ipython3",
   "version": "3.8.13"
  },
  "orig_nbformat": 4,
  "vscode": {
   "interpreter": {
    "hash": "db86ac6a4485ffe52725bd125bedc4d3eee44f78009ec531f859beb80154cdb0"
   }
  }
 },
 "nbformat": 4,
 "nbformat_minor": 2
}
