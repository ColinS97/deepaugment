{
 "cells": [
  {
   "cell_type": "code",
   "execution_count": 1,
   "metadata": {},
   "outputs": [],
   "source": [
    "from keras.datasets import cifar10\n",
    "\n",
    "(x_train, y_train), (x_test, y_test) = cifar10.load_data()\n",
    "x_sample = x_train[0:2000]\n",
    "y_sample = y_train[0:2000]"
   ]
  },
  {
   "cell_type": "code",
   "execution_count": 44,
   "metadata": {},
   "outputs": [
    {
     "name": "stdout",
     "output_type": "stream",
     "text": [
      "(50000, 32, 32, 3)\n"
     ]
    },
    {
     "data": {
      "text/plain": [
       "array([59, 62, 63], dtype=uint8)"
      ]
     },
     "execution_count": 44,
     "metadata": {},
     "output_type": "execute_result"
    }
   ],
   "source": [
    "print(x_train.shape)\n",
    "x_train[0][0][0]"
   ]
  },
  {
   "cell_type": "code",
   "execution_count": 1,
   "metadata": {},
   "outputs": [
    {
     "ename": "NameError",
     "evalue": "name 'x_train' is not defined",
     "output_type": "error",
     "traceback": [
      "\u001b[0;31m---------------------------------------------------------------------------\u001b[0m",
      "\u001b[0;31mNameError\u001b[0m                                 Traceback (most recent call last)",
      "\u001b[1;32m/Users/colins/Documents/Master AI/Semester 5/Active Learning Projekt/git/deepaugment/deepaugment/test_imgaug.ipynb Cell 3'\u001b[0m in \u001b[0;36m<cell line: 1>\u001b[0;34m()\u001b[0m\n\u001b[0;32m----> <a href='vscode-notebook-cell:/Users/colins/Documents/Master%20AI/Semester%205/Active%20Learning%20Projekt/git/deepaugment/deepaugment/test_imgaug.ipynb#ch0000002?line=0'>1</a>\u001b[0m sample \u001b[39m=\u001b[39m x_train[\u001b[39m0\u001b[39m:\u001b[39m2000\u001b[39m]\n",
      "\u001b[0;31mNameError\u001b[0m: name 'x_train' is not defined"
     ]
    }
   ],
   "source": []
  },
  {
   "cell_type": "code",
   "execution_count": null,
   "metadata": {},
   "outputs": [],
   "source": [
    "gamma-contrast 0.8442657485810175\n",
    "coarse-salt-pepper 0.8472517387841256\n",
    "brighten 0.38438170729269994"
   ]
  },
  {
   "cell_type": "code",
   "execution_count": 4,
   "metadata": {},
   "outputs": [
    {
     "name": "stdout",
     "output_type": "stream",
     "text": [
      "Sample Aug Max\n",
      "255.0\n",
      "Sample Aug Max\n",
      "255.0\n",
      "Sample Aug Max\n",
      "255\n"
     ]
    }
   ],
   "source": [
    "from deepaugment.augmenter import transform\n",
    "\n",
    "\n",
    "sample_aug = transform('gamma-contrast', 0.8442657485810175, sample)\n",
    "print(\"Sample Aug Max\")\n",
    "print(sample_aug.max())\n",
    "sample_aug = transform('coarse-salt-pepper', 0.8472517387841256, sample_aug)\n",
    "print(\"Sample Aug Max\")\n",
    "print(sample_aug.max())\n",
    "sample_aug = transform('brighten', 0.38438170729269994, sample)\n",
    "print(\"Sample Aug Max\")\n",
    "print(sample_aug.max())\n",
    "assert (\n",
    "            sample_aug.min() >= -0.1 and sample_aug.max() <= 255.1\n",
    "        ), \"first transform is unvalid\""
   ]
  },
  {
   "cell_type": "code",
   "execution_count": 2,
   "metadata": {},
   "outputs": [
    {
     "name": "stdout",
     "output_type": "stream",
     "text": [
      "[0.7254902  0.75686276 0.84313726]\n"
     ]
    },
    {
     "data": {
      "text/plain": [
       "array([185, 193, 215], dtype=uint8)"
      ]
     },
     "execution_count": 2,
     "metadata": {},
     "output_type": "execute_result"
    }
   ],
   "source": [
    "from deepaugment.augmenter import denormalize, normalize\n",
    "import numpy as np\n",
    "x_sample = np.load(\"X_train_before\", allow_pickle=True)\n",
    "y_sample = np.load(\"y_train_before\", allow_pickle=True)\n",
    "\n",
    "\n",
    "print(x_sample[0][0][0])\n",
    "\n",
    "_X = denormalize(x_sample)\n",
    "\n",
    "_X[0][0][0]"
   ]
  },
  {
   "cell_type": "code",
   "execution_count": 25,
   "metadata": {},
   "outputs": [
    {
     "ename": "AssertionError",
     "evalue": "first transform is unvalid",
     "output_type": "error",
     "traceback": [
      "\u001b[0;31m---------------------------------------------------------------------------\u001b[0m",
      "\u001b[0;31mAssertionError\u001b[0m                            Traceback (most recent call last)",
      "\u001b[1;32m/Users/colins/Documents/Master AI/Semester 5/Active Learning Projekt/git/deepaugment/deepaugment/test_imgaug.ipynb Cell 7'\u001b[0m in \u001b[0;36m<cell line: 11>\u001b[0;34m()\u001b[0m\n\u001b[1;32m      <a href='vscode-notebook-cell:/Users/colins/Documents/Master%20AI/Semester%205/Active%20Learning%20Projekt/git/deepaugment/deepaugment/test_imgaug.ipynb#ch0000016?line=7'>8</a>\u001b[0m hyperparams \u001b[39m=\u001b[39m \u001b[39m'\u001b[39m\u001b[39mgamma-contrast\u001b[39m\u001b[39m'\u001b[39m, \u001b[39m0.8442657485810175\u001b[39m, \u001b[39m'\u001b[39m\u001b[39mcoarse-salt-pepper\u001b[39m\u001b[39m'\u001b[39m, \u001b[39m0.8472517387841256\u001b[39m, \u001b[39m'\u001b[39m\u001b[39mbrighten\u001b[39m\u001b[39m'\u001b[39m, \u001b[39m0.38438170729269994\u001b[39m, \u001b[39m'\u001b[39m\u001b[39mtranslate-y\u001b[39m\u001b[39m'\u001b[39m, \u001b[39m0.056712977317443194\u001b[39m, \u001b[39m'\u001b[39m\u001b[39mtranslate-y\u001b[39m\u001b[39m'\u001b[39m, \u001b[39m0.47766511732135\u001b[39m, \u001b[39m'\u001b[39m\u001b[39madd-to-hue-and-saturation\u001b[39m\u001b[39m'\u001b[39m, \u001b[39m0.47997717237505744\u001b[39m, \u001b[39m'\u001b[39m\u001b[39memboss\u001b[39m\u001b[39m'\u001b[39m, \u001b[39m0.8360787635373778\u001b[39m, \u001b[39m'\u001b[39m\u001b[39msharpen\u001b[39m\u001b[39m'\u001b[39m, \u001b[39m0.6481718720511973\u001b[39m, \u001b[39m'\u001b[39m\u001b[39memboss\u001b[39m\u001b[39m'\u001b[39m, \u001b[39m0.9571551589530466\u001b[39m, \u001b[39m'\u001b[39m\u001b[39mrotate\u001b[39m\u001b[39m'\u001b[39m, \u001b[39m0.8700872583584366\u001b[39m\n\u001b[1;32m      <a href='vscode-notebook-cell:/Users/colins/Documents/Master%20AI/Semester%205/Active%20Learning%20Projekt/git/deepaugment/deepaugment/test_imgaug.ipynb#ch0000016?line=8'>9</a>\u001b[0m \u001b[39mtype\u001b[39m(hyperparams)\n\u001b[0;32m---> <a href='vscode-notebook-cell:/Users/colins/Documents/Master%20AI/Semester%205/Active%20Learning%20Projekt/git/deepaugment/deepaugment/test_imgaug.ipynb#ch0000016?line=10'>11</a>\u001b[0m augmented_data \u001b[39m=\u001b[39m augment_by_policy(x_sample, y_sample, \u001b[39m*\u001b[39;49mhyperparams)\n",
      "File \u001b[0;32m~/Documents/Master AI/Semester 5/Active Learning Projekt/git/deepaugment/deepaugment/deepaugment/augmenter.py:171\u001b[0m, in \u001b[0;36maugment_by_policy\u001b[0;34m(X, y, *hyperparams)\u001b[0m\n\u001b[1;32m    <a href='file:///Users/colins/Documents/Master%20AI/Semester%205/Active%20Learning%20Projekt/git/deepaugment/deepaugment/deepaugment/augmenter.py?line=167'>168</a>\u001b[0m X_portion_aug\u001b[39m.\u001b[39mdump(\u001b[39m\"\u001b[39m\u001b[39mX_aug\u001b[39m\u001b[39m\"\u001b[39m\u001b[39m+\u001b[39m\u001b[39mstr\u001b[39m(i))\n\u001b[1;32m    <a href='file:///Users/colins/Documents/Master%20AI/Semester%205/Active%20Learning%20Projekt/git/deepaugment/deepaugment/deepaugment/augmenter.py?line=168'>169</a>\u001b[0m X_portion\u001b[39m.\u001b[39mdump(\u001b[39m\"\u001b[39m\u001b[39mX\u001b[39m\u001b[39m\"\u001b[39m\u001b[39m+\u001b[39m\u001b[39mstr\u001b[39m(i))\n\u001b[0;32m--> <a href='file:///Users/colins/Documents/Master%20AI/Semester%205/Active%20Learning%20Projekt/git/deepaugment/deepaugment/deepaugment/augmenter.py?line=170'>171</a>\u001b[0m \u001b[39massert\u001b[39;00m (\n\u001b[1;32m    <a href='file:///Users/colins/Documents/Master%20AI/Semester%205/Active%20Learning%20Projekt/git/deepaugment/deepaugment/deepaugment/augmenter.py?line=171'>172</a>\u001b[0m     X_portion_aug\u001b[39m.\u001b[39mmin() \u001b[39m>\u001b[39m\u001b[39m=\u001b[39m \u001b[39m-\u001b[39m\u001b[39m0.1\u001b[39m \u001b[39mand\u001b[39;00m X_portion_aug\u001b[39m.\u001b[39mmax() \u001b[39m<\u001b[39m\u001b[39m=\u001b[39m \u001b[39m255.1\u001b[39m\n\u001b[1;32m    <a href='file:///Users/colins/Documents/Master%20AI/Semester%205/Active%20Learning%20Projekt/git/deepaugment/deepaugment/deepaugment/augmenter.py?line=172'>173</a>\u001b[0m ), \u001b[39m\"\u001b[39m\u001b[39mfirst transform is unvalid\u001b[39m\u001b[39m\"\u001b[39m\n\u001b[1;32m    <a href='file:///Users/colins/Documents/Master%20AI/Semester%205/Active%20Learning%20Projekt/git/deepaugment/deepaugment/deepaugment/augmenter.py?line=173'>174</a>\u001b[0m np\u001b[39m.\u001b[39mclip(X_portion_aug, \u001b[39m0\u001b[39m, \u001b[39m255\u001b[39m, out\u001b[39m=\u001b[39mX_portion_aug)\n\u001b[1;32m    <a href='file:///Users/colins/Documents/Master%20AI/Semester%205/Active%20Learning%20Projekt/git/deepaugment/deepaugment/deepaugment/augmenter.py?line=175'>176</a>\u001b[0m X_portion_aug \u001b[39m=\u001b[39m transform(\n\u001b[1;32m    <a href='file:///Users/colins/Documents/Master%20AI/Semester%205/Active%20Learning%20Projekt/git/deepaugment/deepaugment/deepaugment/augmenter.py?line=176'>177</a>\u001b[0m     hyperparams[i\u001b[39m+\u001b[39m\u001b[39m2\u001b[39m], hyperparams[i\u001b[39m+\u001b[39m\u001b[39m3\u001b[39m], X_portion_aug\n\u001b[1;32m    <a href='file:///Users/colins/Documents/Master%20AI/Semester%205/Active%20Learning%20Projekt/git/deepaugment/deepaugment/deepaugment/augmenter.py?line=177'>178</a>\u001b[0m )  \u001b[39m# second transform\u001b[39;00m\n",
      "\u001b[0;31mAssertionError\u001b[0m: first transform is unvalid"
     ]
    }
   ],
   "source": [
    "from deepaugment.augmenter import augment_by_policy\n",
    "import numpy as np\n",
    "\n",
    "x_sample = np.load(\"X_train_before\", allow_pickle=True)\n",
    "y_sample = np.load(\"y_train_before\", allow_pickle=True)\n",
    "\n",
    "\n",
    "hyperparams = 'gamma-contrast', 0.8442657485810175, 'coarse-salt-pepper', 0.8472517387841256, 'brighten', 0.38438170729269994, 'translate-y', 0.056712977317443194, 'translate-y', 0.47766511732135, 'add-to-hue-and-saturation', 0.47997717237505744, 'emboss', 0.8360787635373778, 'sharpen', 0.6481718720511973, 'emboss', 0.9571551589530466, 'rotate', 0.8700872583584366\n",
    "type(hyperparams)\n",
    "\n",
    "augmented_data = augment_by_policy(x_sample, y_sample, *hyperparams)"
   ]
  },
  {
   "cell_type": "code",
   "execution_count": 26,
   "metadata": {},
   "outputs": [
    {
     "name": "stdout",
     "output_type": "stream",
     "text": [
      "> \u001b[0;32m/Users/colins/Documents/Master AI/Semester 5/Active Learning Projekt/git/deepaugment/deepaugment/deepaugment/augmenter.py\u001b[0m(171)\u001b[0;36maugment_by_policy\u001b[0;34m()\u001b[0m\n",
      "\u001b[0;32m    169 \u001b[0;31m        \u001b[0mX_portion\u001b[0m\u001b[0;34m.\u001b[0m\u001b[0mdump\u001b[0m\u001b[0;34m(\u001b[0m\u001b[0;34m\"X\"\u001b[0m\u001b[0;34m+\u001b[0m\u001b[0mstr\u001b[0m\u001b[0;34m(\u001b[0m\u001b[0mi\u001b[0m\u001b[0;34m)\u001b[0m\u001b[0;34m)\u001b[0m\u001b[0;34m\u001b[0m\u001b[0;34m\u001b[0m\u001b[0m\n",
      "\u001b[0m\u001b[0;32m    170 \u001b[0;31m\u001b[0;34m\u001b[0m\u001b[0m\n",
      "\u001b[0m\u001b[0;32m--> 171 \u001b[0;31m        assert (\n",
      "\u001b[0m\u001b[0;32m    172 \u001b[0;31m            \u001b[0mX_portion_aug\u001b[0m\u001b[0;34m.\u001b[0m\u001b[0mmin\u001b[0m\u001b[0;34m(\u001b[0m\u001b[0;34m)\u001b[0m \u001b[0;34m>=\u001b[0m \u001b[0;34m-\u001b[0m\u001b[0;36m0.1\u001b[0m \u001b[0;32mand\u001b[0m \u001b[0mX_portion_aug\u001b[0m\u001b[0;34m.\u001b[0m\u001b[0mmax\u001b[0m\u001b[0;34m(\u001b[0m\u001b[0;34m)\u001b[0m \u001b[0;34m<=\u001b[0m \u001b[0;36m255.1\u001b[0m\u001b[0;34m\u001b[0m\u001b[0;34m\u001b[0m\u001b[0m\n",
      "\u001b[0m\u001b[0;32m    173 \u001b[0;31m        ), \"first transform is unvalid\"\n",
      "\u001b[0m\n",
      "4\n",
      "'brighten'\n",
      "255.0\n",
      "916573\n",
      "269.98938\n",
      "array([[[1697, 1447,  908],\n",
      "        [1512, 1316,  908],\n",
      "        [1512, 1316,  908],\n",
      "        ...,\n",
      "        [  59,  891,  908],\n",
      "        [1512,  891,  908],\n",
      "        [1512,  891,  908]],\n",
      "\n",
      "       [[ 155,  155,  908],\n",
      "        [1254,  626, 1770],\n",
      "        [1254,  626,  282],\n",
      "        ...,\n",
      "        [  25,   25,   25],\n",
      "        [  25, 1353,   25],\n",
      "        [  25,  891,  908]],\n",
      "\n",
      "       [[1697,  155,  908],\n",
      "        [1254,  626,  908],\n",
      "        [1512,  626,  908],\n",
      "        ...,\n",
      "        [  25, 1019,  908],\n",
      "        [  25, 1353,  908],\n",
      "        [ 155,  891,  908]],\n",
      "\n",
      "       ...,\n",
      "\n",
      "       [[1068,   25,  908],\n",
      "        [  25,  626,  908],\n",
      "        [1254,  626,  908],\n",
      "        ...,\n",
      "        [1512,  626, 1316],\n",
      "        [1512,  626,  908],\n",
      "        [1512,  626,  908]],\n",
      "\n",
      "       [[1068,   25,  908],\n",
      "        [  25,   25,   25],\n",
      "        [  25,   25,  908],\n",
      "        ...,\n",
      "        [  25,   25,  908],\n",
      "        [1512,  626,  908],\n",
      "        [1512,  626,  908]],\n",
      "\n",
      "       [[1254, 1447,  908],\n",
      "        [1254, 1447,  908],\n",
      "        [1254, 1447,  908],\n",
      "        ...,\n",
      "        [  25,   25,  908],\n",
      "        [1512,  626,  908],\n",
      "        [1512,  626,  908]]])\n",
      "array([[[224.53488 , 269.47562 , 263.33823 ],\n",
      "        [198.53488 , 248.4756  , 248.33823 ],\n",
      "        [213.53488 , 256.47562 , 256.33823 ],\n",
      "        ...,\n",
      "        [ 62.534874,  98.4756  , 115.33823 ],\n",
      "        [ 55.534874,  91.4756  , 108.33823 ],\n",
      "        [ 91.534874, 127.4756  , 144.33823 ]],\n",
      "\n",
      "       [[223.53488 , 264.47562 , 263.33823 ],\n",
      "        [175.53488 , 216.4756  , 215.33823 ],\n",
      "        [185.53488 , 215.4756  , 214.33823 ],\n",
      "        ...,\n",
      "        [ 77.534874, 108.4756  , 114.33823 ],\n",
      "        [ 60.534874,  91.4756  ,  97.33823 ],\n",
      "        [ 74.534874, 105.4756  , 111.33823 ]],\n",
      "\n",
      "       [[156.53488 , 184.4756  , 183.33823 ],\n",
      "        [118.534874, 142.4756  , 136.33823 ],\n",
      "        [103.534874, 113.4756  , 106.33823 ],\n",
      "        ...,\n",
      "        [ 99.534874, 126.4756  , 122.33823 ],\n",
      "        [ 83.534874, 110.4756  , 106.33823 ],\n",
      "        [ 72.534874,  99.4756  ,  95.33823 ]],\n",
      "\n",
      "       ...,\n",
      "\n",
      "       [[249.53488 , 269.47562 , 259.33823 ],\n",
      "        [246.53488 , 267.47562 , 255.33823 ],\n",
      "        [247.53488 , 268.47562 , 256.33823 ],\n",
      "        ...,\n",
      "        [186.53488 , 195.4756  , 195.33823 ],\n",
      "        [177.53488 , 188.4756  , 188.33823 ],\n",
      "        [173.53488 , 183.4756  , 187.33823 ]],\n",
      "\n",
      "       [[249.53488 , 269.47562 , 256.33823 ],\n",
      "        [247.53488 , 266.47562 , 252.33823 ],\n",
      "        [248.53488 , 267.47562 , 253.33823 ],\n",
      "        ...,\n",
      "        [233.53488 , 245.4756  , 237.33823 ],\n",
      "        [232.53488 , 243.4756  , 237.33823 ],\n",
      "        [242.53488 , 254.4756  , 248.33823 ]],\n",
      "\n",
      "       [[249.53488 , 269.47562 , 258.33823 ],\n",
      "        [249.53488 , 269.47562 , 255.33823 ],\n",
      "        [249.53488 , 269.47562 , 255.33823 ],\n",
      "        ...,\n",
      "        [249.53488 , 266.47562 , 257.33823 ],\n",
      "        [249.53488 , 266.47562 , 257.33823 ],\n",
      "        [249.53488 , 264.47562 , 254.33823 ]]], dtype=float32)\n",
      "array([[[1697, 1447,  908],\n",
      "        [1512, 1316,  908],\n",
      "        [1512, 1316,  908],\n",
      "        ...,\n",
      "        [  59,  891,  908],\n",
      "        [1512,  891,  908],\n",
      "        [1512,  891,  908]],\n",
      "\n",
      "       [[ 155,  155,  908],\n",
      "        [1254,  626, 1770],\n",
      "        [1254,  626,  282],\n",
      "        ...,\n",
      "        [  25,   25,   25],\n",
      "        [  25, 1353,   25],\n",
      "        [  25,  891,  908]],\n",
      "\n",
      "       [[1697,  155,  908],\n",
      "        [1254,  626,  908],\n",
      "        [1512,  626,  908],\n",
      "        ...,\n",
      "        [  25, 1019,  908],\n",
      "        [  25, 1353,  908],\n",
      "        [ 155,  891,  908]],\n",
      "\n",
      "       ...,\n",
      "\n",
      "       [[1068,   25,  908],\n",
      "        [  25,  626,  908],\n",
      "        [1254,  626,  908],\n",
      "        ...,\n",
      "        [1512,  626, 1316],\n",
      "        [1512,  626,  908],\n",
      "        [1512,  626,  908]],\n",
      "\n",
      "       [[1068,   25,  908],\n",
      "        [  25,   25,   25],\n",
      "        [  25,   25,  908],\n",
      "        ...,\n",
      "        [  25,   25,  908],\n",
      "        [1512,  626,  908],\n",
      "        [1512,  626,  908]],\n",
      "\n",
      "       [[1254, 1447,  908],\n",
      "        [1254, 1447,  908],\n",
      "        [1254, 1447,  908],\n",
      "        ...,\n",
      "        [  25,   25,  908],\n",
      "        [1512,  626,  908],\n",
      "        [1512,  626,  908]]])\n",
      "--KeyboardInterrupt--\n",
      "\n",
      "KeyboardInterrupt: Interrupted by user\n"
     ]
    }
   ],
   "source": [
    "%debug"
   ]
  },
  {
   "cell_type": "code",
   "execution_count": 49,
   "metadata": {},
   "outputs": [
    {
     "data": {
      "text/plain": [
       "array([185., 193., 215.], dtype=float32)"
      ]
     },
     "execution_count": 49,
     "metadata": {},
     "output_type": "execute_result"
    }
   ],
   "source": [
    "\n",
    "import matplotlib.pyplot as plt\n",
    "#1447 is broken in aug\n",
    "x_aug4 = np.load(\"X_aug4\", allow_pickle=True)\n",
    "x_aug4[1447]\n",
    "\n",
    "x_4 = np.load(\"X4\", allow_pickle=True)\n",
    "x_4[1447].min()\n",
    "\n",
    "#x_4[0].min()\n",
    "x_4[0][0][0]\n",
    "#plt.imshow(x_4[0])"
   ]
  },
  {
   "cell_type": "code",
   "execution_count": 31,
   "metadata": {},
   "outputs": [
    {
     "name": "stdout",
     "output_type": "stream",
     "text": [
      "255\n",
      "58\n"
     ]
    }
   ],
   "source": [
    "print(sample_aug.max())\n",
    "print(sample_aug.min())"
   ]
  },
  {
   "cell_type": "code",
   "execution_count": 19,
   "metadata": {},
   "outputs": [
    {
     "data": {
      "text/plain": [
       "(32, 32, 3)"
      ]
     },
     "execution_count": 19,
     "metadata": {},
     "output_type": "execute_result"
    }
   ],
   "source": [
    "sample_aug[0].shape"
   ]
  },
  {
   "cell_type": "code",
   "execution_count": 26,
   "metadata": {},
   "outputs": [
    {
     "data": {
      "text/plain": [
       "<matplotlib.image.AxesImage at 0x177851af0>"
      ]
     },
     "execution_count": 26,
     "metadata": {},
     "output_type": "execute_result"
    },
    {
     "data": {
      "image/png": "[encoded data removed]",
      "text/plain": [
       "<Figure size 432x288 with 1 Axes>"
      ]
     },
     "metadata": {
      "needs_background": "light"
     },
     "output_type": "display_data"
    }
   ],
   "source": [
    "import matplotlib.pyplot as plt\n",
    "plt.imshow(sample_aug[5])"
   ]
  },
  {
   "cell_type": "code",
   "execution_count": 27,
   "metadata": {},
   "outputs": [
    {
     "data": {
      "text/plain": [
       "<matplotlib.image.AxesImage at 0x1778b88e0>"
      ]
     },
     "execution_count": 27,
     "metadata": {},
     "output_type": "execute_result"
    },
    {
     "data": {
      "image/png": "[encoded data removed]",
      "text/plain": [
       "<Figure size 432x288 with 1 Axes>"
      ]
     },
     "metadata": {
      "needs_background": "light"
     },
     "output_type": "display_data"
    }
   ],
   "source": [
    "plt.imshow(sample[5])\n"
   ]
  },
  {
   "cell_type": "code",
   "execution_count": 32,
   "metadata": {},
   "outputs": [
    {
     "data": {
      "text/plain": [
       "float"
      ]
     },
     "execution_count": 32,
     "metadata": {},
     "output_type": "execute_result"
    }
   ],
   "source": [
    "\n",
    "type(0.5820197920751072)"
   ]
  },
  {
   "cell_type": "code",
   "execution_count": 35,
   "metadata": {},
   "outputs": [
    {
     "name": "stdout",
     "output_type": "stream",
     "text": [
      "(2000, 32, 32, 3)\n"
     ]
    }
   ],
   "source": []
  },
  {
   "cell_type": "code",
   "execution_count": 36,
   "metadata": {},
   "outputs": [
    {
     "name": "stdout",
     "output_type": "stream",
     "text": [
      "269.97855\n",
      "-14.97277\n"
     ]
    }
   ],
   "source": [
    "X_aug = transform('brighten', 0.38438170729269994, X)\n",
    "print(X_aug.max())\n",
    "print(X_aug.min())"
   ]
  },
  {
   "cell_type": "code",
   "execution_count": 37,
   "metadata": {},
   "outputs": [
    {
     "name": "stdout",
     "output_type": "stream",
     "text": [
      "255.0\n",
      "0.0\n"
     ]
    }
   ],
   "source": [
    "print(X.max())\n",
    "print(X.min())"
   ]
  },
  {
   "cell_type": "code",
   "execution_count": null,
   "metadata": {},
   "outputs": [],
   "source": [
    "gamma-contrast 0.8442657485810175\n",
    "coarse-salt-pepper 0.8472517387841256\n",
    "brighten 0.38438170729269994"
   ]
  },
  {
   "cell_type": "code",
   "execution_count": null,
   "metadata": {},
   "outputs": [],
   "source": []
  }
 ],
 "metadata": {
  "interpreter": {
   "hash": "db86ac6a4485ffe52725bd125bedc4d3eee44f78009ec531f859beb80154cdb0"
  },
  "kernelspec": {
   "display_name": "Python 3.8.13 ('tf-cv-deepaug')",
   "language": "python",
   "name": "python3"
  },
  "language_info": {
   "codemirror_mode": {
    "name": "ipython",
    "version": 3
   },
   "file_extension": ".py",
   "mimetype": "text/x-python",
   "name": "python",
   "nbconvert_exporter": "python",
   "pygments_lexer": "ipython3",
   "version": "3.8.13"
  },
  "orig_nbformat": 4
 },
 "nbformat": 4,
 "nbformat_minor": 2
}
