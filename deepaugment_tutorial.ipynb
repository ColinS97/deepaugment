{
  "cells": [
    {
      "cell_type": "markdown",
      "metadata": {
        "id": "_swghddpWWZW"
      },
      "source": [
        "# Tutorial for DeepAugment\n",
        "\n",
        "- Github: https://github.com/barisozmen/deepaugment\n",
        "- Slides: https://bit.ly/deepaugmentslides\n",
        "- PyPI: https://pypi.org/project/deepaugment/\n",
        "\n",
        "\n",
        "In this tutorial, we will:\n",
        "1. Install\n",
        "2. Import\n",
        "3. Setup and configure\n",
        "4. Optimizer augmentations\n",
        "5. Print found augmentation policies\n",
        "6. Create image-generator using augmentation policies\n",
        "7. Use the image-generator on a full-model\n",
        "\n",
        "**Important Note:** This notebook is only for showing usage of the library. Configurations are made as running the notebook will take 10-20 minutes (using TPU). Therefore this is not a proper analysis with useful results. A proper analysis would take 5-10 hours. For a proper analysis, change configurations as following:\n",
        "* **child_epochs:** +100 (Section 3)\n",
        "* **optimizer iterations:** +100 (Section 4)\n",
        "* **model:** wrn_28_10 or InceptionV3 (Section 7)\n",
        "\n",
        "See [slides](http://bit.ly/deepaugmentslides) for results with CIFAR-10 and iNaturalist images, where DeepAugment was ran for +4 hours on AWS p3.x2large instance\n",
        "\n",
        "### Contact\n",
        "Baris Ozmen, hbaristr@gmail.com"
      ]
    },
    {
      "cell_type": "markdown",
      "metadata": {
        "id": "XVrOyXbuWa-z"
      },
      "source": [
        "## 1. Install"
      ]
    },
    {
      "cell_type": "markdown",
      "metadata": {
        "id": "wcFwYhfgbdwm"
      },
      "source": [
        "### Installed version"
      ]
    },
    {
      "cell_type": "code",
      "execution_count": 2,
      "metadata": {
        "colab": {
          "base_uri": "https://localhost:8080/",
          "height": 34
        },
        "id": "mcyxiMV1bAG3",
        "outputId": "0a5f4c58-d884-4925-f440-50ca0bd229e9"
      },
      "outputs": [],
      "source": [
        "!pip freeze | grep deepaugment"
      ]
    },
    {
      "cell_type": "markdown",
      "metadata": {
        "id": "g_7Q3BEMWc37"
      },
      "source": [
        "## 2.Import"
      ]
    },
    {
      "cell_type": "code",
      "execution_count": 1,
      "metadata": {
        "colab": {
          "base_uri": "https://localhost:8080/",
          "height": 34
        },
        "id": "SuhR6Q3AMFy3",
        "outputId": "3ad22205-a267-4f12-e196-1a30abaae8d6"
      },
      "outputs": [
        {
          "name": "stdout",
          "output_type": "stream",
          "text": [
            "Metal device set to: Apple M1\n",
            "\n",
            "systemMemory: 8.00 GB\n",
            "maxCacheSize: 2.67 GB\n",
            "\n"
          ]
        },
        {
          "name": "stderr",
          "output_type": "stream",
          "text": [
            "2022-04-01 13:57:22.443163: I tensorflow/core/common_runtime/pluggable_device/pluggable_device_factory.cc:305] Could not identify NUMA node of platform GPU ID 0, defaulting to 0. Your kernel may not have been built with NUMA support.\n",
            "2022-04-01 13:57:22.443262: I tensorflow/core/common_runtime/pluggable_device/pluggable_device_factory.cc:271] Created TensorFlow device (/job:localhost/replica:0/task:0/device:GPU:0 with 0 MB memory) -> physical PluggableDevice (device: 0, name: METAL, pci bus id: <undefined>)\n",
            "2022-04-01 13:57:23.285791: I tensorflow/core/common_runtime/pluggable_device/pluggable_device_factory.cc:305] Could not identify NUMA node of platform GPU ID 0, defaulting to 0. Your kernel may not have been built with NUMA support.\n",
            "2022-04-01 13:57:23.285819: I tensorflow/core/common_runtime/pluggable_device/pluggable_device_factory.cc:271] Created TensorFlow device (/device:GPU:0 with 0 MB memory) -> physical PluggableDevice (device: 0, name: METAL, pci bus id: <undefined>)\n"
          ]
        }
      ],
      "source": [
        "from deepaugment.deepaugment import DeepAugment"
      ]
    },
    {
      "cell_type": "markdown",
      "metadata": {
        "id": "PBX825tRWfOw"
      },
      "source": [
        "## 3. A simple setup of DeepAugment\n",
        "\n",
        "Number of child epochs are set as 10 in order to make a quick run. For a thorough analysis, set `child_epochs` >=50"
      ]
    },
    {
      "cell_type": "code",
      "execution_count": 2,
      "metadata": {
        "colab": {
          "base_uri": "https://localhost:8080/",
          "height": 1006
        },
        "id": "hKGEC6g4s1bH",
        "outputId": "1df3d07b-8707-4b2f-b3eb-ceb82780a9df"
      },
      "outputs": [
        {
          "name": "stdout",
          "output_type": "stream",
          "text": [
            "Using 2000 training images\n"
          ]
        },
        {
          "name": "stderr",
          "output_type": "stream",
          "text": [
            "2022-04-01 13:57:27.601626: I tensorflow/core/common_runtime/pluggable_device/pluggable_device_factory.cc:305] Could not identify NUMA node of platform GPU ID 0, defaulting to 0. Your kernel may not have been built with NUMA support.\n",
            "2022-04-01 13:57:27.601743: I tensorflow/core/common_runtime/pluggable_device/pluggable_device_factory.cc:271] Created TensorFlow device (/job:localhost/replica:0/task:0/device:GPU:0 with 0 MB memory) -> physical PluggableDevice (device: 0, name: METAL, pci bus id: <undefined>)\n"
          ]
        },
        {
          "name": "stdout",
          "output_type": "stream",
          "text": [
            "BasicCNN model built as child model.\n",
            " Model summary:\n",
            "Model: \"sequential\"\n",
            "_________________________________________________________________\n",
            " Layer (type)                Output Shape              Param #   \n",
            "=================================================================\n",
            " conv2d (Conv2D)             (None, 32, 32, 32)        896       \n",
            "                                                                 \n",
            " activation (Activation)     (None, 32, 32, 32)        0         \n",
            "                                                                 \n",
            " conv2d_1 (Conv2D)           (None, 30, 30, 32)        9248      \n",
            "                                                                 \n",
            " activation_1 (Activation)   (None, 30, 30, 32)        0         \n",
            "                                                                 \n",
            " max_pooling2d (MaxPooling2D  (None, 15, 15, 32)       0         \n",
            " )                                                               \n",
            "                                                                 \n",
            " dropout (Dropout)           (None, 15, 15, 32)        0         \n",
            "                                                                 \n",
            " conv2d_2 (Conv2D)           (None, 15, 15, 64)        18496     \n",
            "                                                                 \n",
            " activation_2 (Activation)   (None, 15, 15, 64)        0         \n",
            "                                                                 \n",
            " conv2d_3 (Conv2D)           (None, 13, 13, 64)        36928     \n",
            "                                                                 \n",
            " activation_3 (Activation)   (None, 13, 13, 64)        0         \n",
            "                                                                 \n",
            " max_pooling2d_1 (MaxPooling  (None, 6, 6, 64)         0         \n",
            " 2D)                                                             \n",
            "                                                                 \n",
            " dropout_1 (Dropout)         (None, 6, 6, 64)          0         \n",
            "                                                                 \n",
            " flatten (Flatten)           (None, 2304)              0         \n",
            "                                                                 \n",
            " dense (Dense)               (None, 512)               1180160   \n",
            "                                                                 \n",
            " activation_4 (Activation)   (None, 512)               0         \n",
            "                                                                 \n",
            " dropout_2 (Dropout)         (None, 512)               0         \n",
            "                                                                 \n",
            " dense_1 (Dense)             (None, 10)                5130      \n",
            "                                                                 \n",
            " activation_5 (Activation)   (None, 10)                0         \n",
            "                                                                 \n",
            "=================================================================\n",
            "Total params: 1,250,858\n",
            "Trainable params: 1,250,858\n",
            "Non-trainable params: 0\n",
            "_________________________________________________________________\n",
            "None\n",
            "load_pre_augment_weights()'s runtime:  0.0174 sec.\n",
            "Epoch 1/2\n"
          ]
        },
        {
          "name": "stderr",
          "output_type": "stream",
          "text": [
            "2022-04-01 13:57:29.917569: W tensorflow/core/platform/profile_utils/cpu_utils.cc:128] Failed to get CPU frequency: 0 Hz\n",
            "2022-04-01 13:57:30.304133: I tensorflow/core/grappler/optimizers/custom_graph_optimizer_registry.cc:113] Plugin optimizer for device_type GPU is enabled.\n",
            "2022-04-01 13:57:34.466145: I tensorflow/core/grappler/optimizers/custom_graph_optimizer_registry.cc:113] Plugin optimizer for device_type GPU is enabled.\n"
          ]
        },
        {
          "name": "stdout",
          "output_type": "stream",
          "text": [
            "188/188 - 5s - loss: 2.0175 - accuracy: 0.2517 - val_loss: 1.7538 - val_accuracy: 0.3630 - 5s/epoch - 25ms/step\n",
            "Epoch 2/2\n",
            "188/188 - 4s - loss: 1.6576 - accuracy: 0.3929 - val_loss: 1.6907 - val_accuracy: 0.3860 - 4s/epoch - 19ms/step\n",
            "fit()'s runtime:  8.6107 sec.\n",
            "0, 0.6254999935626984, ['rotate', 0.0, 'rotate', 0.0, 'rotate', 0.0, 'rotate', 0.0, 'rotate', 0.0, 'rotate', 0.0, 'rotate', 0.0, 'rotate', 0.0, 'rotate', 0.0, 'rotate', 0.0]\n"
          ]
        }
      ],
      "source": [
        "from keras.datasets import cifar10\n",
        "\n",
        "(x_train, y_train), (x_test, y_test) = cifar10.load_data()\n",
        "\n",
        "# child_epochs set to 10 for a quick run, but it should be >=50 for a proper analysis\n",
        "my_config = {\n",
        "    \"child_epochs\":2,\n",
        "    \"opt_samples\":1\n",
        "}\n",
        "\n",
        "# X_train.shape -> (N, M, M, 3)\n",
        "# y_train.shape -> (N)\n",
        "deepaug = DeepAugment(images=x_train, labels=y_train, config=my_config)"
      ]
    },
    {
      "cell_type": "markdown",
      "metadata": {
        "id": "uaWY7GOkWtaa"
      },
      "source": [
        "## 4. Optimize for 1 iteration (normally 100-300 iterations needed)\n",
        "- Each iteration takes ~30 secs on AWS p3.x2large (V100 GPU), therefore a proper optimization with 300 iterations would take ~2.5 hours and cost ~8$.\n",
        "\n",
        "    - AWS instance p3.x2large cost: 3.09$/h  "
      ]
    },
    {
      "cell_type": "code",
      "execution_count": 4,
      "metadata": {
        "colab": {
          "base_uri": "https://localhost:8080/",
          "height": 1499
        },
        "id": "OMiMqKmMs4-9",
        "outputId": "ffb5f2a2-43e5-4b9c-8562-6c8804288873"
      },
      "outputs": [
        {
          "name": "stdout",
          "output_type": "stream",
          "text": [
            "trial: 1 \n",
            " ['dropout', 0.8009107519796445, 'coarse-dropout', 0.6788795301189604, 'fog', 0.5820197920751072, 'coarse-dropout', 0.7586156243223574, 'rotate', 0.47360041934665753, 'shear', 0.7369181771289582, 'translate-x', 0.13521817340545209, 'sharpen', 0.1496748671836832, 'translate-x', 0.38648898112586205, 'horizontal-flip', 0.4499499899112277]\n"
          ]
        },
        {
          "ename": "AssertionError",
          "evalue": "first transform is unvalid",
          "output_type": "error",
          "traceback": [
            "\u001b[0;31m---------------------------------------------------------------------------\u001b[0m",
            "\u001b[0;31mAssertionError\u001b[0m                            Traceback (most recent call last)",
            "\u001b[1;32m/Users/colins/Documents/Master AI/Semester 5/Active Learning Projekt/git/deepaugment/deepaugment/deepaugment_tutorial.ipynb Cell 10'\u001b[0m in \u001b[0;36m<cell line: 2>\u001b[0;34m()\u001b[0m\n\u001b[1;32m      <a href='vscode-notebook-cell:/Users/colins/Documents/Master%20AI/Semester%205/Active%20Learning%20Projekt/git/deepaugment/deepaugment/deepaugment_tutorial.ipynb#ch0000010?line=0'>1</a>\u001b[0m \u001b[39m# number of iterations set to 2 (set it >=100 for a proper analysis)\u001b[39;00m\n\u001b[0;32m----> <a href='vscode-notebook-cell:/Users/colins/Documents/Master%20AI/Semester%205/Active%20Learning%20Projekt/git/deepaugment/deepaugment/deepaugment_tutorial.ipynb#ch0000010?line=1'>2</a>\u001b[0m best_policies \u001b[39m=\u001b[39m deepaug\u001b[39m.\u001b[39;49moptimize(\u001b[39m2\u001b[39;49m)\n",
            "File \u001b[0;32m~/Documents/Master AI/Semester 5/Active Learning Projekt/git/deepaugment/deepaugment/deepaugment/deepaugment.py:146\u001b[0m, in \u001b[0;36mDeepAugment.optimize\u001b[0;34m(self, iterations)\u001b[0m\n\u001b[1;32m    <a href='file:///Users/colins/Documents/Master%20AI/Semester%205/Active%20Learning%20Projekt/git/deepaugment/deepaugment/deepaugment/deepaugment.py?line=143'>144</a>\u001b[0m     trial_hyperparams \u001b[39m=\u001b[39m \u001b[39mself\u001b[39m\u001b[39m.\u001b[39mcontroller\u001b[39m.\u001b[39mask()\n\u001b[1;32m    <a href='file:///Users/colins/Documents/Master%20AI/Semester%205/Active%20Learning%20Projekt/git/deepaugment/deepaugment/deepaugment/deepaugment.py?line=144'>145</a>\u001b[0m     \u001b[39mprint\u001b[39m(\u001b[39m\"\u001b[39m\u001b[39mtrial:\u001b[39m\u001b[39m\"\u001b[39m, trial_no, \u001b[39m\"\u001b[39m\u001b[39m\\n\u001b[39;00m\u001b[39m\"\u001b[39m, trial_hyperparams)\n\u001b[0;32m--> <a href='file:///Users/colins/Documents/Master%20AI/Semester%205/Active%20Learning%20Projekt/git/deepaugment/deepaugment/deepaugment/deepaugment.py?line=145'>146</a>\u001b[0m     f_val \u001b[39m=\u001b[39m \u001b[39mself\u001b[39;49m\u001b[39m.\u001b[39;49mobjective_func\u001b[39m.\u001b[39;49mevaluate(trial_no, trial_hyperparams)\n\u001b[1;32m    <a href='file:///Users/colins/Documents/Master%20AI/Semester%205/Active%20Learning%20Projekt/git/deepaugment/deepaugment/deepaugment/deepaugment.py?line=146'>147</a>\u001b[0m     \u001b[39mself\u001b[39m\u001b[39m.\u001b[39mcontroller\u001b[39m.\u001b[39mtell(trial_hyperparams, f_val)\n\u001b[1;32m    <a href='file:///Users/colins/Documents/Master%20AI/Semester%205/Active%20Learning%20Projekt/git/deepaugment/deepaugment/deepaugment/deepaugment.py?line=148'>149</a>\u001b[0m \u001b[39mself\u001b[39m\u001b[39m.\u001b[39miterated \u001b[39m+\u001b[39m\u001b[39m=\u001b[39m iterations  \u001b[39m# update number of previous iterations\u001b[39;00m\n",
            "File \u001b[0;32m~/Documents/Master AI/Semester 5/Active Learning Projekt/git/deepaugment/deepaugment/deepaugment/objective.py:43\u001b[0m, in \u001b[0;36mObjective.evaluate\u001b[0;34m(self, trial_no, trial_hyperparams)\u001b[0m\n\u001b[1;32m     <a href='file:///Users/colins/Documents/Master%20AI/Semester%205/Active%20Learning%20Projekt/git/deepaugment/deepaugment/deepaugment/objective.py?line=29'>30</a>\u001b[0m \u001b[39mdef\u001b[39;00m \u001b[39mevaluate\u001b[39m(\u001b[39mself\u001b[39m, trial_no, trial_hyperparams):\n\u001b[1;32m     <a href='file:///Users/colins/Documents/Master%20AI/Semester%205/Active%20Learning%20Projekt/git/deepaugment/deepaugment/deepaugment/objective.py?line=30'>31</a>\u001b[0m     \u001b[39m\"\"\"Evaluates objective function\u001b[39;00m\n\u001b[1;32m     <a href='file:///Users/colins/Documents/Master%20AI/Semester%205/Active%20Learning%20Projekt/git/deepaugment/deepaugment/deepaugment/objective.py?line=31'>32</a>\u001b[0m \n\u001b[1;32m     <a href='file:///Users/colins/Documents/Master%20AI/Semester%205/Active%20Learning%20Projekt/git/deepaugment/deepaugment/deepaugment/objective.py?line=32'>33</a>\u001b[0m \u001b[39m    Trains the child model k times with same augmentation hyperparameters.\u001b[39;00m\n\u001b[0;32m   (...)\u001b[0m\n\u001b[1;32m     <a href='file:///Users/colins/Documents/Master%20AI/Semester%205/Active%20Learning%20Projekt/git/deepaugment/deepaugment/deepaugment/objective.py?line=39'>40</a>\u001b[0m \u001b[39m        float: trial-cost = 1 - avg. rewards from samples\u001b[39;00m\n\u001b[1;32m     <a href='file:///Users/colins/Documents/Master%20AI/Semester%205/Active%20Learning%20Projekt/git/deepaugment/deepaugment/deepaugment/objective.py?line=40'>41</a>\u001b[0m \u001b[39m    \"\"\"\u001b[39;00m\n\u001b[0;32m---> <a href='file:///Users/colins/Documents/Master%20AI/Semester%205/Active%20Learning%20Projekt/git/deepaugment/deepaugment/deepaugment/objective.py?line=42'>43</a>\u001b[0m     augmented_data \u001b[39m=\u001b[39m augment_by_policy(\n\u001b[1;32m     <a href='file:///Users/colins/Documents/Master%20AI/Semester%205/Active%20Learning%20Projekt/git/deepaugment/deepaugment/deepaugment/objective.py?line=43'>44</a>\u001b[0m         \u001b[39mself\u001b[39;49m\u001b[39m.\u001b[39;49mdata[\u001b[39m\"\u001b[39;49m\u001b[39mX_train\u001b[39;49m\u001b[39m\"\u001b[39;49m], \u001b[39mself\u001b[39;49m\u001b[39m.\u001b[39;49mdata[\u001b[39m\"\u001b[39;49m\u001b[39my_train\u001b[39;49m\u001b[39m\"\u001b[39;49m], \u001b[39m*\u001b[39;49mtrial_hyperparams\n\u001b[1;32m     <a href='file:///Users/colins/Documents/Master%20AI/Semester%205/Active%20Learning%20Projekt/git/deepaugment/deepaugment/deepaugment/objective.py?line=44'>45</a>\u001b[0m     )\n\u001b[1;32m     <a href='file:///Users/colins/Documents/Master%20AI/Semester%205/Active%20Learning%20Projekt/git/deepaugment/deepaugment/deepaugment/objective.py?line=46'>47</a>\u001b[0m     sample_rewards \u001b[39m=\u001b[39m []\n\u001b[1;32m     <a href='file:///Users/colins/Documents/Master%20AI/Semester%205/Active%20Learning%20Projekt/git/deepaugment/deepaugment/deepaugment/objective.py?line=47'>48</a>\u001b[0m     \u001b[39mfor\u001b[39;00m sample_no \u001b[39min\u001b[39;00m \u001b[39mrange\u001b[39m(\u001b[39m1\u001b[39m, \u001b[39mself\u001b[39m\u001b[39m.\u001b[39mopt_samples \u001b[39m+\u001b[39m \u001b[39m1\u001b[39m):\n",
            "File \u001b[0;32m~/Documents/Master AI/Semester 5/Active Learning Projekt/git/deepaugment/deepaugment/deepaugment/augmenter.py:158\u001b[0m, in \u001b[0;36maugment_by_policy\u001b[0;34m(X, y, *hyperparams)\u001b[0m\n\u001b[1;32m    <a href='file:///Users/colins/Documents/Master%20AI/Semester%205/Active%20Learning%20Projekt/git/deepaugment/deepaugment/deepaugment/augmenter.py?line=152'>153</a>\u001b[0m \u001b[39mfor\u001b[39;00m i \u001b[39min\u001b[39;00m \u001b[39mrange\u001b[39m(\u001b[39m0\u001b[39m,\u001b[39mlen\u001b[39m(hyperparams)\u001b[39m-\u001b[39m\u001b[39m1\u001b[39m,\u001b[39m4\u001b[39m):\n\u001b[1;32m    <a href='file:///Users/colins/Documents/Master%20AI/Semester%205/Active%20Learning%20Projekt/git/deepaugment/deepaugment/deepaugment/augmenter.py?line=153'>154</a>\u001b[0m \n\u001b[1;32m    <a href='file:///Users/colins/Documents/Master%20AI/Semester%205/Active%20Learning%20Projekt/git/deepaugment/deepaugment/deepaugment/augmenter.py?line=154'>155</a>\u001b[0m     \u001b[39m# transform that portion\u001b[39;00m\n\u001b[1;32m    <a href='file:///Users/colins/Documents/Master%20AI/Semester%205/Active%20Learning%20Projekt/git/deepaugment/deepaugment/deepaugment/augmenter.py?line=155'>156</a>\u001b[0m     X_portion_aug \u001b[39m=\u001b[39m transform(hyperparams[i], hyperparams[i\u001b[39m+\u001b[39m\u001b[39m1\u001b[39m], X_portion)  \u001b[39m# first transform\u001b[39;00m\n\u001b[0;32m--> <a href='file:///Users/colins/Documents/Master%20AI/Semester%205/Active%20Learning%20Projekt/git/deepaugment/deepaugment/deepaugment/augmenter.py?line=157'>158</a>\u001b[0m     \u001b[39massert\u001b[39;00m (\n\u001b[1;32m    <a href='file:///Users/colins/Documents/Master%20AI/Semester%205/Active%20Learning%20Projekt/git/deepaugment/deepaugment/deepaugment/augmenter.py?line=158'>159</a>\u001b[0m         X_portion_aug\u001b[39m.\u001b[39mmin() \u001b[39m>\u001b[39m\u001b[39m=\u001b[39m \u001b[39m-\u001b[39m\u001b[39m0.1\u001b[39m \u001b[39mand\u001b[39;00m X_portion_aug\u001b[39m.\u001b[39mmax() \u001b[39m<\u001b[39m\u001b[39m=\u001b[39m \u001b[39m255.1\u001b[39m\n\u001b[1;32m    <a href='file:///Users/colins/Documents/Master%20AI/Semester%205/Active%20Learning%20Projekt/git/deepaugment/deepaugment/deepaugment/augmenter.py?line=159'>160</a>\u001b[0m     ), \u001b[39m\"\u001b[39m\u001b[39mfirst transform is unvalid\u001b[39m\u001b[39m\"\u001b[39m\n\u001b[1;32m    <a href='file:///Users/colins/Documents/Master%20AI/Semester%205/Active%20Learning%20Projekt/git/deepaugment/deepaugment/deepaugment/augmenter.py?line=160'>161</a>\u001b[0m     np\u001b[39m.\u001b[39mclip(X_portion_aug, \u001b[39m0\u001b[39m, \u001b[39m255\u001b[39m, out\u001b[39m=\u001b[39mX_portion_aug)\n\u001b[1;32m    <a href='file:///Users/colins/Documents/Master%20AI/Semester%205/Active%20Learning%20Projekt/git/deepaugment/deepaugment/deepaugment/augmenter.py?line=162'>163</a>\u001b[0m     X_portion_aug \u001b[39m=\u001b[39m transform(\n\u001b[1;32m    <a href='file:///Users/colins/Documents/Master%20AI/Semester%205/Active%20Learning%20Projekt/git/deepaugment/deepaugment/deepaugment/augmenter.py?line=163'>164</a>\u001b[0m         hyperparams[i\u001b[39m+\u001b[39m\u001b[39m2\u001b[39m], hyperparams[i\u001b[39m+\u001b[39m\u001b[39m3\u001b[39m], X_portion_aug\n\u001b[1;32m    <a href='file:///Users/colins/Documents/Master%20AI/Semester%205/Active%20Learning%20Projekt/git/deepaugment/deepaugment/deepaugment/augmenter.py?line=164'>165</a>\u001b[0m     )  \u001b[39m# second transform\u001b[39;00m\n",
            "\u001b[0;31mAssertionError\u001b[0m: first transform is unvalid"
          ]
        }
      ],
      "source": [
        "# number of iterations set to 2 (set it >=100 for a proper analysis)\n",
        "best_policies = deepaug.optimize(2)"
      ]
    },
    {
      "cell_type": "markdown",
      "metadata": {
        "id": "omNsXx5hW0v-"
      },
      "source": [
        "## 5. See found best policies"
      ]
    },
    {
      "cell_type": "code",
      "execution_count": null,
      "metadata": {
        "colab": {
          "base_uri": "https://localhost:8080/",
          "height": 225
        },
        "id": "U_R0keQDTEC6",
        "outputId": "abac7fa4-6ecc-4482-a19b-adeed8a83a82"
      },
      "outputs": [
        {
          "data": {
            "text/html": [
              "<div>\n",
              "<style scoped>\n",
              "    .dataframe tbody tr th:only-of-type {\n",
              "        vertical-align: middle;\n",
              "    }\n",
              "\n",
              "    .dataframe tbody tr th {\n",
              "        vertical-align: top;\n",
              "    }\n",
              "\n",
              "    .dataframe thead th {\n",
              "        text-align: right;\n",
              "    }\n",
              "</style>\n",
              "<table border=\"1\" class=\"dataframe\">\n",
              "  <thead>\n",
              "    <tr style=\"text-align: right;\">\n",
              "      <th></th>\n",
              "      <th>trial_no</th>\n",
              "      <th>A_aug1_type</th>\n",
              "      <th>A_aug1_magnitude</th>\n",
              "      <th>A_aug2_type</th>\n",
              "      <th>A_aug2_magnitude</th>\n",
              "      <th>B_aug1_type</th>\n",
              "      <th>B_aug1_magnitude</th>\n",
              "      <th>B_aug2_type</th>\n",
              "      <th>B_aug2_magnitude</th>\n",
              "      <th>C_aug1_type</th>\n",
              "      <th>...</th>\n",
              "      <th>D_aug1_type</th>\n",
              "      <th>D_aug1_magnitude</th>\n",
              "      <th>D_aug2_type</th>\n",
              "      <th>D_aug2_magnitude</th>\n",
              "      <th>E_aug1_type</th>\n",
              "      <th>E_aug1_magnitude</th>\n",
              "      <th>E_aug2_type</th>\n",
              "      <th>E_aug2_magnitude</th>\n",
              "      <th>mean_late_val_acc</th>\n",
              "      <th>expected_accuracy_increase(%)</th>\n",
              "    </tr>\n",
              "  </thead>\n",
              "  <tbody>\n",
              "    <tr>\n",
              "      <th>0</th>\n",
              "      <td>0</td>\n",
              "      <td>rotate</td>\n",
              "      <td>0.000</td>\n",
              "      <td>rotate</td>\n",
              "      <td>0.000</td>\n",
              "      <td>rotate</td>\n",
              "      <td>0.000</td>\n",
              "      <td>rotate</td>\n",
              "      <td>0.000</td>\n",
              "      <td>rotate</td>\n",
              "      <td>...</td>\n",
              "      <td>rotate</td>\n",
              "      <td>0.000</td>\n",
              "      <td>rotate</td>\n",
              "      <td>0.000</td>\n",
              "      <td>rotate</td>\n",
              "      <td>0.000</td>\n",
              "      <td>rotate</td>\n",
              "      <td>0.00</td>\n",
              "      <td>0.392</td>\n",
              "      <td>0.0</td>\n",
              "    </tr>\n",
              "    <tr>\n",
              "      <th>4</th>\n",
              "      <td>2</td>\n",
              "      <td>dropout</td>\n",
              "      <td>0.801</td>\n",
              "      <td>coarse-dropout</td>\n",
              "      <td>0.679</td>\n",
              "      <td>fog</td>\n",
              "      <td>0.582</td>\n",
              "      <td>coarse-dropout</td>\n",
              "      <td>0.759</td>\n",
              "      <td>rotate</td>\n",
              "      <td>...</td>\n",
              "      <td>translate-x</td>\n",
              "      <td>0.135</td>\n",
              "      <td>sharpen</td>\n",
              "      <td>0.150</td>\n",
              "      <td>translate-x</td>\n",
              "      <td>0.386</td>\n",
              "      <td>horizontal-flip</td>\n",
              "      <td>0.45</td>\n",
              "      <td>0.255</td>\n",
              "      <td>-13.7</td>\n",
              "    </tr>\n",
              "    <tr>\n",
              "      <th>2</th>\n",
              "      <td>1</td>\n",
              "      <td>gamma-contrast</td>\n",
              "      <td>0.844</td>\n",
              "      <td>coarse-salt-pepper</td>\n",
              "      <td>0.847</td>\n",
              "      <td>brighten</td>\n",
              "      <td>0.384</td>\n",
              "      <td>translate-y</td>\n",
              "      <td>0.057</td>\n",
              "      <td>translate-y</td>\n",
              "      <td>...</td>\n",
              "      <td>emboss</td>\n",
              "      <td>0.836</td>\n",
              "      <td>sharpen</td>\n",
              "      <td>0.648</td>\n",
              "      <td>emboss</td>\n",
              "      <td>0.957</td>\n",
              "      <td>rotate</td>\n",
              "      <td>0.87</td>\n",
              "      <td>0.206</td>\n",
              "      <td>-18.6</td>\n",
              "    </tr>\n",
              "  </tbody>\n",
              "</table>\n",
              "<p>3 rows × 23 columns</p>\n",
              "</div>"
            ],
            "text/plain": [
              "   trial_no     A_aug1_type  A_aug1_magnitude         A_aug2_type  \\\n",
              "0         0          rotate             0.000              rotate   \n",
              "4         2         dropout             0.801      coarse-dropout   \n",
              "2         1  gamma-contrast             0.844  coarse-salt-pepper   \n",
              "\n",
              "   A_aug2_magnitude B_aug1_type  B_aug1_magnitude     B_aug2_type  \\\n",
              "0             0.000      rotate             0.000          rotate   \n",
              "4             0.679         fog             0.582  coarse-dropout   \n",
              "2             0.847    brighten             0.384     translate-y   \n",
              "\n",
              "   B_aug2_magnitude  C_aug1_type              ...               D_aug1_type  \\\n",
              "0             0.000       rotate              ...                    rotate   \n",
              "4             0.759       rotate              ...               translate-x   \n",
              "2             0.057  translate-y              ...                    emboss   \n",
              "\n",
              "  D_aug1_magnitude  D_aug2_type D_aug2_magnitude  E_aug1_type  \\\n",
              "0            0.000       rotate            0.000       rotate   \n",
              "4            0.135      sharpen            0.150  translate-x   \n",
              "2            0.836      sharpen            0.648       emboss   \n",
              "\n",
              "  E_aug1_magnitude      E_aug2_type E_aug2_magnitude  mean_late_val_acc  \\\n",
              "0            0.000           rotate             0.00              0.392   \n",
              "4            0.386  horizontal-flip             0.45              0.255   \n",
              "2            0.957           rotate             0.87              0.206   \n",
              "\n",
              "  expected_accuracy_increase(%)  \n",
              "0                           0.0  \n",
              "4                         -13.7  \n",
              "2                         -18.6  \n",
              "\n",
              "[3 rows x 23 columns]"
            ]
          },
          "execution_count": 6,
          "metadata": {
            "tags": []
          },
          "output_type": "execute_result"
        }
      ],
      "source": [
        "best_policies"
      ]
    },
    {
      "cell_type": "markdown",
      "metadata": {
        "id": "CtnoQzrnHvxt"
      },
      "source": [
        "## 6. Create Image Generator by found best policies"
      ]
    },
    {
      "cell_type": "code",
      "execution_count": null,
      "metadata": {
        "id": "HYRVmnZdS-6A"
      },
      "outputs": [],
      "source": [
        "import keras\n",
        "image_gen = deepaug.image_generator_with_top_policies(x_train, keras.utils.to_categorical(y_train))"
      ]
    },
    {
      "cell_type": "markdown",
      "metadata": {
        "id": "qv94oYBTIqIE"
      },
      "source": [
        "## 7. Use DeepAugmented images on your model\n",
        "\n",
        "Let's try  BasicCNN (Child CNN) model which can be created by modules in the package (assuming that your full model is same with BasicCNN). For a proper analysis use WideResNet-28-10, or better, your own model."
      ]
    },
    {
      "cell_type": "code",
      "execution_count": null,
      "metadata": {
        "colab": {
          "base_uri": "https://localhost:8080/",
          "height": 799
        },
        "id": "3O1nLbh-Hzq7",
        "outputId": "ed647cf9-3176-4031-c287-a950541608eb"
      },
      "outputs": [
        {
          "name": "stdout",
          "output_type": "stream",
          "text": [
            "BasicCNN model built as child model.\n",
            " Model summary:\n",
            "_________________________________________________________________\n",
            "Layer (type)                 Output Shape              Param #   \n",
            "=================================================================\n",
            "conv2d_5 (Conv2D)            (None, 32, 32, 32)        896       \n",
            "_________________________________________________________________\n",
            "activation_7 (Activation)    (None, 32, 32, 32)        0         \n",
            "_________________________________________________________________\n",
            "conv2d_6 (Conv2D)            (None, 30, 30, 32)        9248      \n",
            "_________________________________________________________________\n",
            "activation_8 (Activation)    (None, 30, 30, 32)        0         \n",
            "_________________________________________________________________\n",
            "max_pooling2d_3 (MaxPooling2 (None, 15, 15, 32)        0         \n",
            "_________________________________________________________________\n",
            "dropout_4 (Dropout)          (None, 15, 15, 32)        0         \n",
            "_________________________________________________________________\n",
            "conv2d_7 (Conv2D)            (None, 15, 15, 64)        18496     \n",
            "_________________________________________________________________\n",
            "activation_9 (Activation)    (None, 15, 15, 64)        0         \n",
            "_________________________________________________________________\n",
            "conv2d_8 (Conv2D)            (None, 13, 13, 64)        36928     \n",
            "_________________________________________________________________\n",
            "activation_10 (Activation)   (None, 13, 13, 64)        0         \n",
            "_________________________________________________________________\n",
            "max_pooling2d_4 (MaxPooling2 (None, 6, 6, 64)          0         \n",
            "_________________________________________________________________\n",
            "dropout_5 (Dropout)          (None, 6, 6, 64)          0         \n",
            "_________________________________________________________________\n",
            "flatten_2 (Flatten)          (None, 2304)              0         \n",
            "_________________________________________________________________\n",
            "dense_3 (Dense)              (None, 512)               1180160   \n",
            "_________________________________________________________________\n",
            "activation_11 (Activation)   (None, 512)               0         \n",
            "_________________________________________________________________\n",
            "dropout_6 (Dropout)          (None, 512)               0         \n",
            "_________________________________________________________________\n",
            "dense_4 (Dense)              (None, 10)                5130      \n",
            "_________________________________________________________________\n",
            "activation_12 (Activation)   (None, 10)                0         \n",
            "=================================================================\n",
            "Total params: 1,250,858\n",
            "Trainable params: 1,250,858\n",
            "Non-trainable params: 0\n",
            "_________________________________________________________________\n",
            "None\n"
          ]
        }
      ],
      "source": [
        "from deepaugment.childcnn import ChildCNN\n",
        "import logging\n",
        "\n",
        "cnn_config = {\"model\":\"basicCNN\", \"logging\":logging}\n",
        "full_model = ChildCNN(input_shape=x_train.shape[1:], num_classes=10, config=cnn_config)"
      ]
    },
    {
      "cell_type": "code",
      "execution_count": null,
      "metadata": {
        "colab": {
          "base_uri": "https://localhost:8080/",
          "height": 105
        },
        "id": "_E9QMWkEH6mq",
        "outputId": "4fd9639f-7926-4783-9d5e-6e51dd61fb84"
      },
      "outputs": [
        {
          "name": "stdout",
          "output_type": "stream",
          "text": [
            "Epoch 1/5\n",
            "Policies are:\n",
            "[{'A_aug1_type': 'rotate', 'A_aug1_magnitude': 0.0, 'A_aug2_type': 'rotate', 'A_aug2_magnitude': 0.0, 'B_aug1_type': 'rotate', 'B_aug1_magnitude': 0.0, 'B_aug2_type': 'rotate', 'B_aug2_magnitude': 0.0, 'C_aug1_type': 'rotate', 'C_aug1_magnitude': 0.0, 'C_aug2_type': 'rotate', 'C_aug2_magnitude': 0.0, 'D_aug1_type': 'rotate', 'D_aug1_magnitude': 0.0, 'D_aug2_type': 'rotate', 'D_aug2_magnitude': 0.0, 'E_aug1_type': 'rotate', 'E_aug1_magnitude': 0.0, 'E_aug2_type': 'rotate', 'E_aug2_magnitude': 0.0}, {'A_aug1_type': 'dropout', 'A_aug1_magnitude': 0.801, 'A_aug2_type': 'coarse-dropout', 'A_aug2_magnitude': 0.679, 'B_aug1_type': 'fog', 'B_aug1_magnitude': 0.582, 'B_aug2_type': 'coarse-dropout', 'B_aug2_magnitude': 0.759, 'C_aug1_type': 'rotate', 'C_aug1_magnitude': 0.474, 'C_aug2_type': 'shear', 'C_aug2_magnitude': 0.737, 'D_aug1_type': 'translate-x', 'D_aug1_magnitude': 0.135, 'D_aug2_type': 'sharpen', 'D_aug2_magnitude': 0.15, 'E_aug1_type': 'translate-x', 'E_aug1_magnitude': 0.386, 'E_aug2_type': 'horizontal-flip', 'E_aug2_magnitude': 0.45}, {'A_aug1_type': 'gamma-contrast', 'A_aug1_magnitude': 0.844, 'A_aug2_type': 'coarse-salt-pepper', 'A_aug2_magnitude': 0.847, 'B_aug1_type': 'brighten', 'B_aug1_magnitude': 0.384, 'B_aug2_type': 'translate-y', 'B_aug2_magnitude': 0.057, 'C_aug1_type': 'translate-y', 'C_aug1_magnitude': 0.478, 'C_aug2_type': 'add-to-hue-and-saturation', 'C_aug2_magnitude': 0.48, 'D_aug1_type': 'emboss', 'D_aug1_magnitude': 0.836, 'D_aug2_type': 'sharpen', 'D_aug2_magnitude': 0.648, 'E_aug1_type': 'emboss', 'E_aug1_magnitude': 0.957, 'E_aug2_type': 'rotate', 'E_aug2_magnitude': 0.87}]\n",
            "\n"
          ]
        }
      ],
      "source": [
        "BATCH_SIZE = 64\n",
        "\n",
        "full_model.model.fit_generator(\n",
        "    image_gen,\n",
        "    validation_data=(x_test, keras.utils.to_categorical(y_test)),\n",
        "    steps_per_epoch=len(x_train) // BATCH_SIZE,\n",
        "    epochs=5,\n",
        "    shuffle=True,\n",
        "    verbose=2\n",
        ")"
      ]
    },
    {
      "cell_type": "code",
      "execution_count": null,
      "metadata": {
        "id": "Iwjv1Af_IH7o"
      },
      "outputs": [],
      "source": []
    }
  ],
  "metadata": {
    "accelerator": "TPU",
    "colab": {
      "name": "deepaugment-tutorial.ipynb",
      "provenance": []
    },
    "kernelspec": {
      "display_name": "Python 3",
      "name": "python3"
    },
    "language_info": {
      "codemirror_mode": {
        "name": "ipython",
        "version": 3
      },
      "file_extension": ".py",
      "mimetype": "text/x-python",
      "name": "python",
      "nbconvert_exporter": "python",
      "pygments_lexer": "ipython3",
      "version": "3.8.13"
    }
  },
  "nbformat": 4,
  "nbformat_minor": 0
}
