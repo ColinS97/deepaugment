{
  "cells": [
    {
      "cell_type": "markdown",
      "metadata": {
        "id": "_swghddpWWZW"
      },
      "source": [
        "# Tutorial for DeepAugment\n",
        "\n",
        "- Github: https://github.com/barisozmen/deepaugment\n",
        "- Slides: https://bit.ly/deepaugmentslides\n",
        "- PyPI: https://pypi.org/project/deepaugment/\n",
        "\n",
        "\n",
        "In this tutorial, we will:\n",
        "1. Install\n",
        "2. Import\n",
        "3. Setup and configure\n",
        "4. Optimizer augmentations\n",
        "5. Print found augmentation policies\n",
        "6. Create image-generator using augmentation policies\n",
        "7. Use the image-generator on a full-model\n",
        "\n",
        "**Important Note:** This notebook is only for showing usage of the library. Configurations are made as running the notebook will take 10-20 minutes (using TPU). Therefore this is not a proper analysis with useful results. A proper analysis would take 5-10 hours. For a proper analysis, change configurations as following:\n",
        "* **child_epochs:** +100 (Section 3)\n",
        "* **optimizer iterations:** +100 (Section 4)\n",
        "* **model:** wrn_28_10 or InceptionV3 (Section 7)\n",
        "\n",
        "See [slides](http://bit.ly/deepaugmentslides) for results with CIFAR-10 and iNaturalist images, where DeepAugment was ran for +4 hours on AWS p3.x2large instance\n",
        "\n",
        "### Contact\n",
        "Baris Ozmen, hbaristr@gmail.com"
      ]
    },
    {
      "cell_type": "markdown",
      "metadata": {
        "id": "XVrOyXbuWa-z"
      },
      "source": [
        "## 1. Install"
      ]
    },
    {
      "cell_type": "markdown",
      "metadata": {},
      "source": [
        "If running in a cloud notebook you can also try to install the dependencies with pip and clone the rest of the package. For local installs I recommend to skip this and refer to the readme"
      ]
    },
    {
      "cell_type": "code",
      "execution_count": null,
      "metadata": {},
      "outputs": [],
      "source": [
        "!pip install --upgrade pip"
      ]
    },
    {
      "cell_type": "code",
      "execution_count": null,
      "metadata": {},
      "outputs": [],
      "source": [
        "!pip install -r requirements.txt"
      ]
    },
    {
      "cell_type": "code",
      "execution_count": null,
      "metadata": {},
      "outputs": [],
      "source": []
    },
    {
      "cell_type": "markdown",
      "metadata": {
        "id": "wcFwYhfgbdwm"
      },
      "source": [
        "### Installed version"
      ]
    },
    {
      "cell_type": "markdown",
      "metadata": {
        "id": "g_7Q3BEMWc37"
      },
      "source": [
        "## 2.Import"
      ]
    },
    {
      "cell_type": "code",
      "execution_count": 1,
      "metadata": {
        "colab": {
          "base_uri": "https://localhost:8080/",
          "height": 34
        },
        "id": "SuhR6Q3AMFy3",
        "outputId": "3ad22205-a267-4f12-e196-1a30abaae8d6"
      },
      "outputs": [
        {
          "name": "stdout",
          "output_type": "stream",
          "text": [
            "Metal device set to: Apple M1\n",
            "\n",
            "systemMemory: 8.00 GB\n",
            "maxCacheSize: 2.67 GB\n",
            "\n"
          ]
        },
        {
          "name": "stderr",
          "output_type": "stream",
          "text": [
            "2022-06-23 15:49:52.172715: I tensorflow/core/common_runtime/pluggable_device/pluggable_device_factory.cc:305] Could not identify NUMA node of platform GPU ID 0, defaulting to 0. Your kernel may not have been built with NUMA support.\n",
            "2022-06-23 15:49:52.172845: I tensorflow/core/common_runtime/pluggable_device/pluggable_device_factory.cc:271] Created TensorFlow device (/job:localhost/replica:0/task:0/device:GPU:0 with 0 MB memory) -> physical PluggableDevice (device: 0, name: METAL, pci bus id: <undefined>)\n",
            "2022-06-23 15:49:52.506477: I tensorflow/core/common_runtime/pluggable_device/pluggable_device_factory.cc:305] Could not identify NUMA node of platform GPU ID 0, defaulting to 0. Your kernel may not have been built with NUMA support.\n",
            "2022-06-23 15:49:52.506502: I tensorflow/core/common_runtime/pluggable_device/pluggable_device_factory.cc:271] Created TensorFlow device (/device:GPU:0 with 0 MB memory) -> physical PluggableDevice (device: 0, name: METAL, pci bus id: <undefined>)\n"
          ]
        }
      ],
      "source": [
        "from deepaugment.deepaugment import DeepAugment"
      ]
    },
    {
      "cell_type": "markdown",
      "metadata": {
        "id": "PBX825tRWfOw"
      },
      "source": [
        "## 3. A simple setup of DeepAugment\n",
        "\n",
        "Number of child epochs are set as 10 in order to make a quick run. For a thorough analysis, set `child_epochs` >=50"
      ]
    },
    {
      "cell_type": "code",
      "execution_count": 2,
      "metadata": {
        "colab": {
          "base_uri": "https://localhost:8080/",
          "height": 1006
        },
        "id": "hKGEC6g4s1bH",
        "outputId": "1df3d07b-8707-4b2f-b3eb-ceb82780a9df"
      },
      "outputs": [
        {
          "name": "stdout",
          "output_type": "stream",
          "text": [
            "Using 2000 training images\n",
            "BasicCNN model built as child model.\n",
            " Model summary:\n",
            "Model: \"sequential\"\n",
            "_________________________________________________________________\n",
            " Layer (type)                Output Shape              Param #   \n",
            "=================================================================\n",
            " conv2d (Conv2D)             (None, 32, 32, 32)        896       \n",
            "                                                                 \n",
            " activation (Activation)     (None, 32, 32, 32)        0         \n",
            "                                                                 \n",
            " conv2d_1 (Conv2D)           (None, 30, 30, 32)        9248      \n",
            "                                                                 \n",
            " activation_1 (Activation)   (None, 30, 30, 32)        0         \n",
            "                                                                 \n",
            " max_pooling2d (MaxPooling2D  (None, 15, 15, 32)       0         \n",
            " )                                                               \n",
            "                                                                 \n",
            " dropout (Dropout)           (None, 15, 15, 32)        0         \n",
            "                                                                 \n",
            " conv2d_2 (Conv2D)           (None, 15, 15, 64)        18496     \n",
            "                                                                 \n",
            " activation_2 (Activation)   (None, 15, 15, 64)        0         \n",
            "                                                                 \n",
            " conv2d_3 (Conv2D)           (None, 13, 13, 64)        36928     \n",
            "                                                                 \n",
            " activation_3 (Activation)   (None, 13, 13, 64)        0         \n",
            "                                                                 \n",
            " max_pooling2d_1 (MaxPooling  (None, 6, 6, 64)         0         \n",
            " 2D)                                                             \n",
            "                                                                 \n",
            " dropout_1 (Dropout)         (None, 6, 6, 64)          0         \n",
            "                                                                 \n",
            " flatten (Flatten)           (None, 2304)              0         \n",
            "                                                                 \n",
            " dense (Dense)               (None, 512)               1180160   \n",
            "                                                                 \n",
            " activation_4 (Activation)   (None, 512)               0         \n",
            "                                                                 \n",
            " dropout_2 (Dropout)         (None, 512)               0         \n",
            "                                                                 \n",
            " dense_1 (Dense)             (None, 10)                5130      \n",
            "                                                                 \n",
            " activation_5 (Activation)   (None, 10)                0         \n",
            "                                                                 \n",
            "=================================================================\n",
            "Total params: 1,250,858\n",
            "Trainable params: 1,250,858\n",
            "Non-trainable params: 0\n",
            "_________________________________________________________________\n"
          ]
        },
        {
          "name": "stderr",
          "output_type": "stream",
          "text": [
            "2022-06-23 15:49:56.396257: I tensorflow/core/common_runtime/pluggable_device/pluggable_device_factory.cc:305] Could not identify NUMA node of platform GPU ID 0, defaulting to 0. Your kernel may not have been built with NUMA support.\n",
            "2022-06-23 15:49:56.396344: I tensorflow/core/common_runtime/pluggable_device/pluggable_device_factory.cc:271] Created TensorFlow device (/job:localhost/replica:0/task:0/device:GPU:0 with 0 MB memory) -> physical PluggableDevice (device: 0, name: METAL, pci bus id: <undefined>)\n"
          ]
        },
        {
          "name": "stdout",
          "output_type": "stream",
          "text": [
            "None\n",
            "before augmenting sace train dataset\n",
            "Länge Hyperparams:20\n"
          ]
        },
        {
          "ename": "TypeError",
          "evalue": "Cannot handle this data type: (1, 1, 32, 3), |u1",
          "output_type": "error",
          "traceback": [
            "\u001b[0;31m---------------------------------------------------------------------------\u001b[0m",
            "\u001b[0;31mKeyError\u001b[0m                                  Traceback (most recent call last)",
            "File \u001b[0;32m~/miniforge3/envs/tf-cv-deepaug/lib/python3.8/site-packages/PIL/Image.py:2928\u001b[0m, in \u001b[0;36mfromarray\u001b[0;34m(obj, mode)\u001b[0m\n\u001b[1;32m   2927\u001b[0m \u001b[39mtry\u001b[39;00m:\n\u001b[0;32m-> 2928\u001b[0m     mode, rawmode \u001b[39m=\u001b[39m _fromarray_typemap[typekey]\n\u001b[1;32m   2929\u001b[0m \u001b[39mexcept\u001b[39;00m \u001b[39mKeyError\u001b[39;00m \u001b[39mas\u001b[39;00m e:\n",
            "\u001b[0;31mKeyError\u001b[0m: ((1, 1, 32, 3), '|u1')",
            "\nThe above exception was the direct cause of the following exception:\n",
            "\u001b[0;31mTypeError\u001b[0m                                 Traceback (most recent call last)",
            "\u001b[1;32m/Users/colins/Documents/Master AI/Semester 5/Active Learning Projekt/git/deepaugment/deepaugment/deepaugment_tutorial.ipynb Cell 11'\u001b[0m in \u001b[0;36m<cell line: 13>\u001b[0;34m()\u001b[0m\n\u001b[1;32m      <a href='vscode-notebook-cell:/Users/colins/Documents/Master%20AI/Semester%205/Active%20Learning%20Projekt/git/deepaugment/deepaugment/deepaugment_tutorial.ipynb#ch0000010?line=5'>6</a>\u001b[0m my_config \u001b[39m=\u001b[39m {\n\u001b[1;32m      <a href='vscode-notebook-cell:/Users/colins/Documents/Master%20AI/Semester%205/Active%20Learning%20Projekt/git/deepaugment/deepaugment/deepaugment_tutorial.ipynb#ch0000010?line=6'>7</a>\u001b[0m     \u001b[39m\"\u001b[39m\u001b[39mchild_epochs\u001b[39m\u001b[39m\"\u001b[39m:\u001b[39m2\u001b[39m,\n\u001b[1;32m      <a href='vscode-notebook-cell:/Users/colins/Documents/Master%20AI/Semester%205/Active%20Learning%20Projekt/git/deepaugment/deepaugment/deepaugment_tutorial.ipynb#ch0000010?line=7'>8</a>\u001b[0m     \u001b[39m\"\u001b[39m\u001b[39mopt_samples\u001b[39m\u001b[39m\"\u001b[39m:\u001b[39m1\u001b[39m\n\u001b[1;32m      <a href='vscode-notebook-cell:/Users/colins/Documents/Master%20AI/Semester%205/Active%20Learning%20Projekt/git/deepaugment/deepaugment/deepaugment_tutorial.ipynb#ch0000010?line=8'>9</a>\u001b[0m }\n\u001b[1;32m     <a href='vscode-notebook-cell:/Users/colins/Documents/Master%20AI/Semester%205/Active%20Learning%20Projekt/git/deepaugment/deepaugment/deepaugment_tutorial.ipynb#ch0000010?line=10'>11</a>\u001b[0m \u001b[39m# X_train.shape -> (N, M, M, 3)\u001b[39;00m\n\u001b[1;32m     <a href='vscode-notebook-cell:/Users/colins/Documents/Master%20AI/Semester%205/Active%20Learning%20Projekt/git/deepaugment/deepaugment/deepaugment_tutorial.ipynb#ch0000010?line=11'>12</a>\u001b[0m \u001b[39m# y_train.shape -> (N)\u001b[39;00m\n\u001b[0;32m---> <a href='vscode-notebook-cell:/Users/colins/Documents/Master%20AI/Semester%205/Active%20Learning%20Projekt/git/deepaugment/deepaugment/deepaugment_tutorial.ipynb#ch0000010?line=12'>13</a>\u001b[0m deepaug \u001b[39m=\u001b[39m DeepAugment(images\u001b[39m=\u001b[39;49mx_train, labels\u001b[39m=\u001b[39;49my_train, config\u001b[39m=\u001b[39;49mmy_config)\n",
            "File \u001b[0;32m~/Documents/Master AI/Semester 5/Active Learning Projekt/git/deepaugment/deepaugment/deepaugment/lib/decorators.py:106\u001b[0m, in \u001b[0;36mReporter.logger.<locals>.wrapper\u001b[0;34m(*args, **kwargs)\u001b[0m\n\u001b[1;32m     99\u001b[0m \u001b[39m@wraps\u001b[39m(func)\n\u001b[1;32m    100\u001b[0m \u001b[39mdef\u001b[39;00m \u001b[39mwrapper\u001b[39m(\u001b[39m*\u001b[39margs, \u001b[39m*\u001b[39m\u001b[39m*\u001b[39mkwargs):\n\u001b[1;32m    101\u001b[0m     logging\u001b[39m.\u001b[39minfo(\n\u001b[1;32m    102\u001b[0m         \u001b[39m\"\u001b[39m\u001b[39m{}\u001b[39;00m\u001b[39m ran with args: \u001b[39m\u001b[39m{}\u001b[39;00m\u001b[39m, and kwargs: \u001b[39m\u001b[39m{}\u001b[39;00m\u001b[39m\"\u001b[39m\u001b[39m.\u001b[39mformat(\n\u001b[1;32m    103\u001b[0m             func\u001b[39m.\u001b[39m\u001b[39m__name__\u001b[39m, args, kwargs\n\u001b[1;32m    104\u001b[0m         )\n\u001b[1;32m    105\u001b[0m     )\n\u001b[0;32m--> 106\u001b[0m     \u001b[39mreturn\u001b[39;00m func(\u001b[39m*\u001b[39;49margs, \u001b[39m*\u001b[39;49m\u001b[39m*\u001b[39;49mkwargs)\n",
            "File \u001b[0;32m~/Documents/Master AI/Semester 5/Active Learning Projekt/git/deepaugment/deepaugment/deepaugment/deepaugment.py:133\u001b[0m, in \u001b[0;36mDeepAugment.__init__\u001b[0;34m(self, images, labels, config)\u001b[0m\n\u001b[1;32m    128\u001b[0m \u001b[39mself\u001b[39m\u001b[39m.\u001b[39mchild_model\u001b[39m.\u001b[39msave_pre_aug_weights()\n\u001b[1;32m    129\u001b[0m \u001b[39mself\u001b[39m\u001b[39m.\u001b[39mobjective_func \u001b[39m=\u001b[39m Objective(\n\u001b[1;32m    130\u001b[0m     \u001b[39mself\u001b[39m\u001b[39m.\u001b[39mdata, \u001b[39mself\u001b[39m\u001b[39m.\u001b[39mchild_model, \u001b[39mself\u001b[39m\u001b[39m.\u001b[39mnotebook, \u001b[39mself\u001b[39m\u001b[39m.\u001b[39mconfig\n\u001b[1;32m    131\u001b[0m )\n\u001b[0;32m--> 133\u001b[0m \u001b[39mself\u001b[39;49m\u001b[39m.\u001b[39;49m_evaluate_objective_func_without_augmentation()\n",
            "File \u001b[0;32m~/Documents/Master AI/Semester 5/Active Learning Projekt/git/deepaugment/deepaugment/deepaugment/deepaugment.py:254\u001b[0m, in \u001b[0;36mDeepAugment._evaluate_objective_func_without_augmentation\u001b[0;34m(self)\u001b[0m\n\u001b[1;32m    231\u001b[0m \u001b[39m\"\"\"Find out what would be the accuracy if augmentation are not applied\"\"\"\u001b[39;00m\n\u001b[1;32m    232\u001b[0m no_aug_hyperparams \u001b[39m=\u001b[39m [\n\u001b[1;32m    233\u001b[0m     \u001b[39m\"\u001b[39m\u001b[39mrotate\u001b[39m\u001b[39m\"\u001b[39m,\n\u001b[1;32m    234\u001b[0m     \u001b[39m0.0\u001b[39m,\n\u001b[0;32m   (...)\u001b[0m\n\u001b[1;32m    252\u001b[0m     \u001b[39m0.0\u001b[39m,\n\u001b[1;32m    253\u001b[0m ]\n\u001b[0;32m--> 254\u001b[0m f_val \u001b[39m=\u001b[39m \u001b[39mself\u001b[39;49m\u001b[39m.\u001b[39;49mobjective_func\u001b[39m.\u001b[39;49mevaluate(\u001b[39m0\u001b[39;49m, no_aug_hyperparams)\n\u001b[1;32m    255\u001b[0m \u001b[39mself\u001b[39m\u001b[39m.\u001b[39mcontroller\u001b[39m.\u001b[39mtell(no_aug_hyperparams, f_val)\n",
            "File \u001b[0;32m~/Documents/Master AI/Semester 5/Active Learning Projekt/git/deepaugment/deepaugment/deepaugment/objective.py:43\u001b[0m, in \u001b[0;36mObjective.evaluate\u001b[0;34m(self, trial_no, trial_hyperparams)\u001b[0m\n\u001b[1;32m     30\u001b[0m \u001b[39m\"\"\"Evaluates objective function\u001b[39;00m\n\u001b[1;32m     31\u001b[0m \n\u001b[1;32m     32\u001b[0m \u001b[39mTrains the child model k times with same augmentation hyperparameters.\u001b[39;00m\n\u001b[0;32m   (...)\u001b[0m\n\u001b[1;32m     39\u001b[0m \u001b[39m    float: trial-cost = 1 - avg. rewards from samples\u001b[39;00m\n\u001b[1;32m     40\u001b[0m \u001b[39m\"\"\"\u001b[39;00m\n\u001b[1;32m     41\u001b[0m \u001b[39mprint\u001b[39m(\u001b[39m\"\u001b[39m\u001b[39mbefore augmenting sace train dataset\u001b[39m\u001b[39m\"\u001b[39m)\n\u001b[0;32m---> 43\u001b[0m augmented_data \u001b[39m=\u001b[39m augment_by_policy(\n\u001b[1;32m     44\u001b[0m     \u001b[39mself\u001b[39;49m\u001b[39m.\u001b[39;49mdata[\u001b[39m\"\u001b[39;49m\u001b[39mX_train\u001b[39;49m\u001b[39m\"\u001b[39;49m], \u001b[39mself\u001b[39;49m\u001b[39m.\u001b[39;49mdata[\u001b[39m\"\u001b[39;49m\u001b[39my_train\u001b[39;49m\u001b[39m\"\u001b[39;49m], \u001b[39m*\u001b[39;49mtrial_hyperparams\n\u001b[1;32m     45\u001b[0m )\n\u001b[1;32m     47\u001b[0m sample_rewards \u001b[39m=\u001b[39m []\n\u001b[1;32m     48\u001b[0m \u001b[39mfor\u001b[39;00m sample_no \u001b[39min\u001b[39;00m \u001b[39mrange\u001b[39m(\u001b[39m1\u001b[39m, \u001b[39mself\u001b[39m\u001b[39m.\u001b[39mopt_samples \u001b[39m+\u001b[39m \u001b[39m1\u001b[39m):\n",
            "File \u001b[0;32m~/Documents/Master AI/Semester 5/Active Learning Projekt/git/deepaugment/deepaugment/deepaugment/augmenter.py:67\u001b[0m, in \u001b[0;36maugment_by_policy\u001b[0;34m(X, y, *hyperparams)\u001b[0m\n\u001b[1;32m     64\u001b[0m \u001b[39m# range(start, stop, step)\u001b[39;00m\n\u001b[1;32m     65\u001b[0m \u001b[39mfor\u001b[39;00m i \u001b[39min\u001b[39;00m \u001b[39mrange\u001b[39m(\u001b[39m0\u001b[39m, \u001b[39mlen\u001b[39m(hyperparams) \u001b[39m-\u001b[39m \u001b[39m1\u001b[39m, \u001b[39m4\u001b[39m):\n\u001b[0;32m---> 67\u001b[0m     X_portion_aug \u001b[39m=\u001b[39m transform(\n\u001b[1;32m     68\u001b[0m         hyperparams[i], hyperparams[i \u001b[39m+\u001b[39;49m \u001b[39m1\u001b[39;49m], X_portion\n\u001b[1;32m     69\u001b[0m     )  \u001b[39m# first transform\u001b[39;00m\n\u001b[1;32m     71\u001b[0m     \u001b[39mif\u001b[39;00m all_X_portion_aug \u001b[39mis\u001b[39;00m \u001b[39mNone\u001b[39;00m:\n\u001b[1;32m     72\u001b[0m         all_X_portion_aug \u001b[39m=\u001b[39m X_portion_aug\n",
            "File \u001b[0;32m~/Documents/Master AI/Semester 5/Active Learning Projekt/git/deepaugment/deepaugment/deepaugment/augmenter.py:10\u001b[0m, in \u001b[0;36mtransform\u001b[0;34m(aug_type, magnitude, X)\u001b[0m\n\u001b[1;32m      8\u001b[0m \u001b[39mdef\u001b[39;00m \u001b[39mtransform\u001b[39m(aug_type, magnitude, X):\n\u001b[1;32m      9\u001b[0m     \u001b[39m# ich nehme an die daten kommen normalisiert hier an\u001b[39;00m\n\u001b[0;32m---> 10\u001b[0m     denormed_pil_image \u001b[39m=\u001b[39m Image\u001b[39m.\u001b[39;49mfromarray(np\u001b[39m.\u001b[39;49muint8(X \u001b[39m*\u001b[39;49m \u001b[39m255\u001b[39;49m))\n\u001b[1;32m     11\u001b[0m     X \u001b[39m=\u001b[39m denormed_pil_image\n\u001b[1;32m     12\u001b[0m     propability \u001b[39m=\u001b[39m \u001b[39m1.0\u001b[39m\n",
            "File \u001b[0;32m~/miniforge3/envs/tf-cv-deepaug/lib/python3.8/site-packages/PIL/Image.py:2930\u001b[0m, in \u001b[0;36mfromarray\u001b[0;34m(obj, mode)\u001b[0m\n\u001b[1;32m   2928\u001b[0m         mode, rawmode \u001b[39m=\u001b[39m _fromarray_typemap[typekey]\n\u001b[1;32m   2929\u001b[0m     \u001b[39mexcept\u001b[39;00m \u001b[39mKeyError\u001b[39;00m \u001b[39mas\u001b[39;00m e:\n\u001b[0;32m-> 2930\u001b[0m         \u001b[39mraise\u001b[39;00m \u001b[39mTypeError\u001b[39;00m(\u001b[39m\"\u001b[39m\u001b[39mCannot handle this data type: \u001b[39m\u001b[39m%s\u001b[39;00m\u001b[39m, \u001b[39m\u001b[39m%s\u001b[39;00m\u001b[39m\"\u001b[39m \u001b[39m%\u001b[39m typekey) \u001b[39mfrom\u001b[39;00m \u001b[39me\u001b[39;00m\n\u001b[1;32m   2931\u001b[0m \u001b[39melse\u001b[39;00m:\n\u001b[1;32m   2932\u001b[0m     rawmode \u001b[39m=\u001b[39m mode\n",
            "\u001b[0;31mTypeError\u001b[0m: Cannot handle this data type: (1, 1, 32, 3), |u1"
          ]
        }
      ],
      "source": [
        "from keras.datasets import cifar10\n",
        "\n",
        "(x_train, y_train), (x_test, y_test) = cifar10.load_data()\n",
        "\n",
        "# child_epochs set to 10 for a quick run, but it should be >=50 for a proper analysis\n",
        "my_config = {\n",
        "    \"child_epochs\":2,\n",
        "    \"opt_samples\":1\n",
        "}\n",
        "\n",
        "# X_train.shape -> (N, M, M, 3)\n",
        "# y_train.shape -> (N)\n",
        "deepaug = DeepAugment(images=x_train, labels=y_train, config=my_config)"
      ]
    },
    {
      "cell_type": "markdown",
      "metadata": {
        "id": "uaWY7GOkWtaa"
      },
      "source": [
        "## 4. Optimize for 1 iteration (normally 100-300 iterations needed)\n",
        "- Each iteration takes ~30 secs on AWS p3.x2large (V100 GPU), therefore a proper optimization with 300 iterations would take ~2.5 hours and cost ~8$.\n",
        "\n",
        "    - AWS instance p3.x2large cost: 3.09$/h  "
      ]
    },
    {
      "cell_type": "code",
      "execution_count": 3,
      "metadata": {},
      "outputs": [
        {
          "data": {
            "text/plain": [
              "(50000, 32, 32, 3)"
            ]
          },
          "execution_count": 3,
          "metadata": {},
          "output_type": "execute_result"
        }
      ],
      "source": [
        "x_train.shape"
      ]
    },
    {
      "cell_type": "code",
      "execution_count": 5,
      "metadata": {},
      "outputs": [
        {
          "name": "stdout",
          "output_type": "stream",
          "text": [
            "0\n",
            "(32, 32, 3)\n",
            "1\n",
            "(32, 32, 3)\n",
            "2\n",
            "(32, 32, 3)\n",
            "3\n",
            "(32, 32, 3)\n",
            "4\n",
            "(32, 32, 3)\n",
            "5\n",
            "(32, 32, 3)\n",
            "6\n",
            "(32, 32, 3)\n",
            "7\n",
            "(32, 32, 3)\n",
            "8\n",
            "(32, 32, 3)\n",
            "9\n",
            "(32, 32, 3)\n"
          ]
        }
      ],
      "source": [
        "for index, element in enumerate(x_train[0:10]):\n",
        "    print(index)\n",
        "    print(element.shape)"
      ]
    },
    {
      "cell_type": "code",
      "execution_count": 3,
      "metadata": {
        "colab": {
          "base_uri": "https://localhost:8080/",
          "height": 1499
        },
        "id": "OMiMqKmMs4-9",
        "outputId": "ffb5f2a2-43e5-4b9c-8562-6c8804288873"
      },
      "outputs": [
        {
          "name": "stdout",
          "output_type": "stream",
          "text": [
            "trial: 1 \n",
            " ['gamma-contrast', 0.8442657485810175, 'coarse-salt-pepper', 0.8472517387841256, 'brighten', 0.38438170729269994, 'translate-y', 0.056712977317443194, 'translate-y', 0.47766511732135, 'add-to-hue-and-saturation', 0.47997717237505744, 'emboss', 0.8360787635373778, 'sharpen', 0.6481718720511973, 'emboss', 0.9571551589530466, 'rotate', 0.8700872583584366]\n",
            "before augmenting sace train dataset\n",
            "load_pre_augment_weights()'s runtime:  0.0204 sec.\n",
            "Epoch 1/2\n",
            "188/188 - 6s - loss: 2.2207 - accuracy: 0.1619 - val_loss: 2.0274 - val_accuracy: 0.2850 - 6s/epoch - 30ms/step\n",
            "Epoch 2/2\n",
            "188/188 - 7s - loss: 2.0868 - accuracy: 0.2229 - val_loss: 1.9320 - val_accuracy: 0.3170 - 7s/epoch - 38ms/step\n",
            "fit()'s runtime:  13.1648 sec.\n",
            "1, 0.6989999860525131, ['gamma-contrast', 0.8442657485810175, 'coarse-salt-pepper', 0.8472517387841256, 'brighten', 0.38438170729269994, 'translate-y', 0.056712977317443194, 'translate-y', 0.47766511732135, 'add-to-hue-and-saturation', 0.47997717237505744, 'emboss', 0.8360787635373778, 'sharpen', 0.6481718720511973, 'emboss', 0.9571551589530466, 'rotate', 0.8700872583584366]\n",
            "top-20 policies: 20\n",
            "   trial_no     A_aug1_type  A_aug1_magnitude         A_aug2_type  \\\n",
            "0         0          rotate             0.000              rotate   \n",
            "2         1  gamma-contrast             0.844  coarse-salt-pepper   \n",
            "\n",
            "   A_aug2_magnitude B_aug1_type  B_aug1_magnitude  B_aug2_type  \\\n",
            "0             0.000      rotate             0.000       rotate   \n",
            "2             0.847    brighten             0.384  translate-y   \n",
            "\n",
            "   B_aug2_magnitude  C_aug1_type  ...  D_aug1_type D_aug1_magnitude  \\\n",
            "0             0.000       rotate  ...       rotate            0.000   \n",
            "2             0.057  translate-y  ...       emboss            0.836   \n",
            "\n",
            "   D_aug2_type D_aug2_magnitude  E_aug1_type E_aug1_magnitude  E_aug2_type  \\\n",
            "0       rotate            0.000       rotate            0.000       rotate   \n",
            "2      sharpen            0.648       emboss            0.957       rotate   \n",
            "\n",
            "  E_aug2_magnitude  mean_late_val_acc expected_accuracy_increase(%)  \n",
            "0             0.00              0.393                           0.0  \n",
            "2             0.87              0.301                          -9.2  \n",
            "\n",
            "[2 rows x 23 columns]\n",
            "Top policies are saved to /Users/colins/Documents/Master AI/Semester 5/Active Learning Projekt/git/deepaugment/deepaugment/reports/experiments/06-23_12-48/top2_policies.csv\n",
            "\n",
            "top policies are:\n",
            "    trial_no     A_aug1_type  A_aug1_magnitude         A_aug2_type  \\\n",
            "0         0          rotate             0.000              rotate   \n",
            "2         1  gamma-contrast             0.844  coarse-salt-pepper   \n",
            "\n",
            "   A_aug2_magnitude B_aug1_type  B_aug1_magnitude  B_aug2_type  \\\n",
            "0             0.000      rotate             0.000       rotate   \n",
            "2             0.847    brighten             0.384  translate-y   \n",
            "\n",
            "   B_aug2_magnitude  C_aug1_type  ...  D_aug1_type D_aug1_magnitude  \\\n",
            "0             0.000       rotate  ...       rotate            0.000   \n",
            "2             0.057  translate-y  ...       emboss            0.836   \n",
            "\n",
            "   D_aug2_type D_aug2_magnitude  E_aug1_type E_aug1_magnitude  E_aug2_type  \\\n",
            "0       rotate            0.000       rotate            0.000       rotate   \n",
            "2      sharpen            0.648       emboss            0.957       rotate   \n",
            "\n",
            "  E_aug2_magnitude  mean_late_val_acc expected_accuracy_increase(%)  \n",
            "0             0.00              0.393                           0.0  \n",
            "2             0.87              0.301                          -9.2  \n",
            "\n",
            "[2 rows x 23 columns]\n"
          ]
        }
      ],
      "source": [
        "# number of iterations set to 2 (set it >=100 for a proper analysis)\n",
        "best_policies = deepaug.optimize(1)\n",
        "#x_portion_aug_max is 305"
      ]
    },
    {
      "cell_type": "code",
      "execution_count": 12,
      "metadata": {},
      "outputs": [
        {
          "name": "stdout",
          "output_type": "stream",
          "text": [
            "> \u001b[0;32m/Users/colins/Documents/Master AI/Semester 5/Active Learning Projekt/git/deepaugment/deepaugment/deepaugment/augmenter.py\u001b[0m(171)\u001b[0;36maugment_by_policy\u001b[0;34m()\u001b[0m\n",
            "\u001b[0;32m    169 \u001b[0;31m        \u001b[0mX_portion\u001b[0m\u001b[0;34m.\u001b[0m\u001b[0mdump\u001b[0m\u001b[0;34m(\u001b[0m\u001b[0;34m\"X\"\u001b[0m\u001b[0;34m+\u001b[0m\u001b[0mstr\u001b[0m\u001b[0;34m(\u001b[0m\u001b[0mi\u001b[0m\u001b[0;34m)\u001b[0m\u001b[0;34m)\u001b[0m\u001b[0;34m\u001b[0m\u001b[0;34m\u001b[0m\u001b[0m\n",
            "\u001b[0m\u001b[0;32m    170 \u001b[0;31m\u001b[0;34m\u001b[0m\u001b[0m\n",
            "\u001b[0m\u001b[0;32m--> 171 \u001b[0;31m        assert (\n",
            "\u001b[0m\u001b[0;32m    172 \u001b[0;31m            \u001b[0mX_portion_aug\u001b[0m\u001b[0;34m.\u001b[0m\u001b[0mmin\u001b[0m\u001b[0;34m(\u001b[0m\u001b[0;34m)\u001b[0m \u001b[0;34m>=\u001b[0m \u001b[0;34m-\u001b[0m\u001b[0;36m0.1\u001b[0m \u001b[0;32mand\u001b[0m \u001b[0mX_portion_aug\u001b[0m\u001b[0;34m.\u001b[0m\u001b[0mmax\u001b[0m\u001b[0;34m(\u001b[0m\u001b[0;34m)\u001b[0m \u001b[0;34m<=\u001b[0m \u001b[0;36m255.1\u001b[0m\u001b[0;34m\u001b[0m\u001b[0;34m\u001b[0m\u001b[0m\n",
            "\u001b[0m\u001b[0;32m    173 \u001b[0;31m        ), \"first transform is unvalid\"\n",
            "\u001b[0m\n",
            "*** NameError: name 'hyperparameters' is not defined\n",
            "<class 'tuple'>\n",
            "4\n",
            "'brighten'\n",
            "--KeyboardInterrupt--\n",
            "\n",
            "KeyboardInterrupt: Interrupted by user\n"
          ]
        }
      ],
      "source": [
        "%debug\n"
      ]
    },
    {
      "cell_type": "markdown",
      "metadata": {
        "id": "omNsXx5hW0v-"
      },
      "source": [
        "## 5. See found best policies"
      ]
    },
    {
      "cell_type": "code",
      "execution_count": 6,
      "metadata": {
        "colab": {
          "base_uri": "https://localhost:8080/",
          "height": 225
        },
        "id": "U_R0keQDTEC6",
        "outputId": "abac7fa4-6ecc-4482-a19b-adeed8a83a82"
      },
      "outputs": [
        {
          "data": {
            "text/html": [
              "<div>\n",
              "<style scoped>\n",
              "    .dataframe tbody tr th:only-of-type {\n",
              "        vertical-align: middle;\n",
              "    }\n",
              "\n",
              "    .dataframe tbody tr th {\n",
              "        vertical-align: top;\n",
              "    }\n",
              "\n",
              "    .dataframe thead th {\n",
              "        text-align: right;\n",
              "    }\n",
              "</style>\n",
              "<table border=\"1\" class=\"dataframe\">\n",
              "  <thead>\n",
              "    <tr style=\"text-align: right;\">\n",
              "      <th></th>\n",
              "      <th>trial_no</th>\n",
              "      <th>A_aug1_type</th>\n",
              "      <th>A_aug1_magnitude</th>\n",
              "      <th>A_aug2_type</th>\n",
              "      <th>A_aug2_magnitude</th>\n",
              "      <th>B_aug1_type</th>\n",
              "      <th>B_aug1_magnitude</th>\n",
              "      <th>B_aug2_type</th>\n",
              "      <th>B_aug2_magnitude</th>\n",
              "      <th>C_aug1_type</th>\n",
              "      <th>...</th>\n",
              "      <th>D_aug1_type</th>\n",
              "      <th>D_aug1_magnitude</th>\n",
              "      <th>D_aug2_type</th>\n",
              "      <th>D_aug2_magnitude</th>\n",
              "      <th>E_aug1_type</th>\n",
              "      <th>E_aug1_magnitude</th>\n",
              "      <th>E_aug2_type</th>\n",
              "      <th>E_aug2_magnitude</th>\n",
              "      <th>mean_late_val_acc</th>\n",
              "      <th>expected_accuracy_increase(%)</th>\n",
              "    </tr>\n",
              "  </thead>\n",
              "  <tbody>\n",
              "    <tr>\n",
              "      <th>0</th>\n",
              "      <td>0</td>\n",
              "      <td>rotate</td>\n",
              "      <td>0.000</td>\n",
              "      <td>rotate</td>\n",
              "      <td>0.000</td>\n",
              "      <td>rotate</td>\n",
              "      <td>0.000</td>\n",
              "      <td>rotate</td>\n",
              "      <td>0.000</td>\n",
              "      <td>rotate</td>\n",
              "      <td>...</td>\n",
              "      <td>rotate</td>\n",
              "      <td>0.000</td>\n",
              "      <td>rotate</td>\n",
              "      <td>0.000</td>\n",
              "      <td>rotate</td>\n",
              "      <td>0.000</td>\n",
              "      <td>rotate</td>\n",
              "      <td>0.00</td>\n",
              "      <td>0.412</td>\n",
              "      <td>0.0</td>\n",
              "    </tr>\n",
              "    <tr>\n",
              "      <th>4</th>\n",
              "      <td>2</td>\n",
              "      <td>dropout</td>\n",
              "      <td>0.801</td>\n",
              "      <td>coarse-dropout</td>\n",
              "      <td>0.679</td>\n",
              "      <td>fog</td>\n",
              "      <td>0.582</td>\n",
              "      <td>coarse-dropout</td>\n",
              "      <td>0.759</td>\n",
              "      <td>rotate</td>\n",
              "      <td>...</td>\n",
              "      <td>translate-x</td>\n",
              "      <td>0.135</td>\n",
              "      <td>sharpen</td>\n",
              "      <td>0.150</td>\n",
              "      <td>translate-x</td>\n",
              "      <td>0.386</td>\n",
              "      <td>horizontal-flip</td>\n",
              "      <td>0.45</td>\n",
              "      <td>0.302</td>\n",
              "      <td>-11.0</td>\n",
              "    </tr>\n",
              "    <tr>\n",
              "      <th>2</th>\n",
              "      <td>1</td>\n",
              "      <td>gamma-contrast</td>\n",
              "      <td>0.844</td>\n",
              "      <td>coarse-salt-pepper</td>\n",
              "      <td>0.847</td>\n",
              "      <td>brighten</td>\n",
              "      <td>0.384</td>\n",
              "      <td>translate-y</td>\n",
              "      <td>0.057</td>\n",
              "      <td>translate-y</td>\n",
              "      <td>...</td>\n",
              "      <td>emboss</td>\n",
              "      <td>0.836</td>\n",
              "      <td>sharpen</td>\n",
              "      <td>0.648</td>\n",
              "      <td>emboss</td>\n",
              "      <td>0.957</td>\n",
              "      <td>rotate</td>\n",
              "      <td>0.87</td>\n",
              "      <td>0.267</td>\n",
              "      <td>-14.5</td>\n",
              "    </tr>\n",
              "  </tbody>\n",
              "</table>\n",
              "<p>3 rows × 23 columns</p>\n",
              "</div>"
            ],
            "text/plain": [
              "   trial_no     A_aug1_type  A_aug1_magnitude         A_aug2_type  \\\n",
              "0         0          rotate             0.000              rotate   \n",
              "4         2         dropout             0.801      coarse-dropout   \n",
              "2         1  gamma-contrast             0.844  coarse-salt-pepper   \n",
              "\n",
              "   A_aug2_magnitude B_aug1_type  B_aug1_magnitude     B_aug2_type  \\\n",
              "0             0.000      rotate             0.000          rotate   \n",
              "4             0.679         fog             0.582  coarse-dropout   \n",
              "2             0.847    brighten             0.384     translate-y   \n",
              "\n",
              "   B_aug2_magnitude  C_aug1_type  ...  D_aug1_type D_aug1_magnitude  \\\n",
              "0             0.000       rotate  ...       rotate            0.000   \n",
              "4             0.759       rotate  ...  translate-x            0.135   \n",
              "2             0.057  translate-y  ...       emboss            0.836   \n",
              "\n",
              "   D_aug2_type D_aug2_magnitude  E_aug1_type E_aug1_magnitude  \\\n",
              "0       rotate            0.000       rotate            0.000   \n",
              "4      sharpen            0.150  translate-x            0.386   \n",
              "2      sharpen            0.648       emboss            0.957   \n",
              "\n",
              "       E_aug2_type E_aug2_magnitude  mean_late_val_acc  \\\n",
              "0           rotate             0.00              0.412   \n",
              "4  horizontal-flip             0.45              0.302   \n",
              "2           rotate             0.87              0.267   \n",
              "\n",
              "  expected_accuracy_increase(%)  \n",
              "0                           0.0  \n",
              "4                         -11.0  \n",
              "2                         -14.5  \n",
              "\n",
              "[3 rows x 23 columns]"
            ]
          },
          "execution_count": 6,
          "metadata": {},
          "output_type": "execute_result"
        }
      ],
      "source": [
        "best_policies"
      ]
    },
    {
      "cell_type": "markdown",
      "metadata": {
        "id": "CtnoQzrnHvxt"
      },
      "source": [
        "## 6. Create Image Generator by found best policies"
      ]
    },
    {
      "cell_type": "code",
      "execution_count": 8,
      "metadata": {
        "id": "HYRVmnZdS-6A"
      },
      "outputs": [],
      "source": [
        "import keras\n",
        "image_gen = deepaug.image_generator_with_top_policies(x_train, keras.utils.np_utils.to_categorical(y_train))"
      ]
    },
    {
      "cell_type": "markdown",
      "metadata": {
        "id": "qv94oYBTIqIE"
      },
      "source": [
        "## 7. Use DeepAugmented images on your model\n",
        "\n",
        "Let's try  BasicCNN (Child CNN) model which can be created by modules in the package (assuming that your full model is same with BasicCNN). For a proper analysis use WideResNet-28-10, or better, your own model."
      ]
    },
    {
      "cell_type": "code",
      "execution_count": 9,
      "metadata": {
        "colab": {
          "base_uri": "https://localhost:8080/",
          "height": 799
        },
        "id": "3O1nLbh-Hzq7",
        "outputId": "ed647cf9-3176-4031-c287-a950541608eb"
      },
      "outputs": [
        {
          "name": "stdout",
          "output_type": "stream",
          "text": [
            "BasicCNN model built as child model.\n",
            " Model summary:\n",
            "Model: \"sequential_1\"\n",
            "_________________________________________________________________\n",
            " Layer (type)                Output Shape              Param #   \n",
            "=================================================================\n",
            " conv2d_4 (Conv2D)           (None, 32, 32, 32)        896       \n",
            "                                                                 \n",
            " activation_6 (Activation)   (None, 32, 32, 32)        0         \n",
            "                                                                 \n",
            " conv2d_5 (Conv2D)           (None, 30, 30, 32)        9248      \n",
            "                                                                 \n",
            " activation_7 (Activation)   (None, 30, 30, 32)        0         \n",
            "                                                                 \n",
            " max_pooling2d_2 (MaxPooling  (None, 15, 15, 32)       0         \n",
            " 2D)                                                             \n",
            "                                                                 \n",
            " dropout_3 (Dropout)         (None, 15, 15, 32)        0         \n",
            "                                                                 \n",
            " conv2d_6 (Conv2D)           (None, 15, 15, 64)        18496     \n",
            "                                                                 \n",
            " activation_8 (Activation)   (None, 15, 15, 64)        0         \n",
            "                                                                 \n",
            " conv2d_7 (Conv2D)           (None, 13, 13, 64)        36928     \n",
            "                                                                 \n",
            " activation_9 (Activation)   (None, 13, 13, 64)        0         \n",
            "                                                                 \n",
            " max_pooling2d_3 (MaxPooling  (None, 6, 6, 64)         0         \n",
            " 2D)                                                             \n",
            "                                                                 \n",
            " dropout_4 (Dropout)         (None, 6, 6, 64)          0         \n",
            "                                                                 \n",
            " flatten_1 (Flatten)         (None, 2304)              0         \n",
            "                                                                 \n",
            " dense_2 (Dense)             (None, 512)               1180160   \n",
            "                                                                 \n",
            " activation_10 (Activation)  (None, 512)               0         \n",
            "                                                                 \n",
            " dropout_5 (Dropout)         (None, 512)               0         \n",
            "                                                                 \n",
            " dense_3 (Dense)             (None, 10)                5130      \n",
            "                                                                 \n",
            " activation_11 (Activation)  (None, 10)                0         \n",
            "                                                                 \n",
            "=================================================================\n",
            "Total params: 1,250,858\n",
            "Trainable params: 1,250,858\n",
            "Non-trainable params: 0\n",
            "_________________________________________________________________\n",
            "None\n"
          ]
        }
      ],
      "source": [
        "from deepaugment.childcnn import ChildCNN\n",
        "import logging\n",
        "\n",
        "cnn_config = {\"model\":\"basicCNN\", \"logging\":logging}\n",
        "full_model = ChildCNN(input_shape=x_train.shape[1:], num_classes=10, config=cnn_config)"
      ]
    },
    {
      "cell_type": "code",
      "execution_count": 10,
      "metadata": {
        "colab": {
          "base_uri": "https://localhost:8080/",
          "height": 105
        },
        "id": "_E9QMWkEH6mq",
        "outputId": "4fd9639f-7926-4783-9d5e-6e51dd61fb84"
      },
      "outputs": [
        {
          "name": "stdout",
          "output_type": "stream",
          "text": [
            "Policies are:\n",
            "[{'A_aug1_type': 'rotate', 'A_aug1_magnitude': 0.0, 'A_aug2_type': 'rotate', 'A_aug2_magnitude': 0.0, 'B_aug1_type': 'rotate', 'B_aug1_magnitude': 0.0, 'B_aug2_type': 'rotate', 'B_aug2_magnitude': 0.0, 'C_aug1_type': 'rotate', 'C_aug1_magnitude': 0.0, 'C_aug2_type': 'rotate', 'C_aug2_magnitude': 0.0, 'D_aug1_type': 'rotate', 'D_aug1_magnitude': 0.0, 'D_aug2_type': 'rotate', 'D_aug2_magnitude': 0.0, 'E_aug1_type': 'rotate', 'E_aug1_magnitude': 0.0, 'E_aug2_type': 'rotate', 'E_aug2_magnitude': 0.0}, {'A_aug1_type': 'dropout', 'A_aug1_magnitude': 0.801, 'A_aug2_type': 'coarse-dropout', 'A_aug2_magnitude': 0.679, 'B_aug1_type': 'fog', 'B_aug1_magnitude': 0.582, 'B_aug2_type': 'coarse-dropout', 'B_aug2_magnitude': 0.759, 'C_aug1_type': 'rotate', 'C_aug1_magnitude': 0.474, 'C_aug2_type': 'shear', 'C_aug2_magnitude': 0.737, 'D_aug1_type': 'translate-x', 'D_aug1_magnitude': 0.135, 'D_aug2_type': 'sharpen', 'D_aug2_magnitude': 0.15, 'E_aug1_type': 'translate-x', 'E_aug1_magnitude': 0.386, 'E_aug2_type': 'horizontal-flip', 'E_aug2_magnitude': 0.45}, {'A_aug1_type': 'gamma-contrast', 'A_aug1_magnitude': 0.844, 'A_aug2_type': 'coarse-salt-pepper', 'A_aug2_magnitude': 0.847, 'B_aug1_type': 'brighten', 'B_aug1_magnitude': 0.384, 'B_aug2_type': 'translate-y', 'B_aug2_magnitude': 0.057, 'C_aug1_type': 'translate-y', 'C_aug1_magnitude': 0.478, 'C_aug2_type': 'add-to-hue-and-saturation', 'C_aug2_magnitude': 0.48, 'D_aug1_type': 'emboss', 'D_aug1_magnitude': 0.836, 'D_aug2_type': 'sharpen', 'D_aug2_magnitude': 0.648, 'E_aug1_type': 'emboss', 'E_aug1_magnitude': 0.957, 'E_aug2_type': 'rotate', 'E_aug2_magnitude': 0.87}]\n",
            "\n",
            "Epoch 1/5\n"
          ]
        },
        {
          "name": "stderr",
          "output_type": "stream",
          "text": [
            "/var/folders/fd/j59lqzvj66n4r0_dyt15l1bw0000gn/T/ipykernel_65786/4149183280.py:3: UserWarning: `Model.fit_generator` is deprecated and will be removed in a future version. Please use `Model.fit`, which supports generators.\n",
            "  full_model.model.fit_generator(\n",
            "2022-04-02 22:59:15.802755: I tensorflow/core/grappler/optimizers/custom_graph_optimizer_registry.cc:113] Plugin optimizer for device_type GPU is enabled.\n",
            "2022-04-02 23:00:43.033169: I tensorflow/core/grappler/optimizers/custom_graph_optimizer_registry.cc:113] Plugin optimizer for device_type GPU is enabled.\n"
          ]
        },
        {
          "name": "stdout",
          "output_type": "stream",
          "text": [
            "781/781 - 91s - loss: 2.3305 - accuracy: 0.1128 - val_loss: 2.1359 - val_accuracy: 0.2171 - 91s/epoch - 116ms/step\n",
            "Epoch 2/5\n",
            "781/781 - 68s - loss: 2.1339 - accuracy: 0.2048 - val_loss: 1.9447 - val_accuracy: 0.3076 - 68s/epoch - 88ms/step\n",
            "Epoch 3/5\n",
            "781/781 - 43s - loss: 2.0262 - accuracy: 0.2508 - val_loss: 1.8860 - val_accuracy: 0.3272 - 43s/epoch - 55ms/step\n",
            "Epoch 4/5\n",
            "781/781 - 42s - loss: 1.9685 - accuracy: 0.2703 - val_loss: 1.9551 - val_accuracy: 0.2821 - 42s/epoch - 54ms/step\n",
            "Epoch 5/5\n",
            "781/781 - 42s - loss: 1.9191 - accuracy: 0.2950 - val_loss: 1.7552 - val_accuracy: 0.3725 - 42s/epoch - 54ms/step\n"
          ]
        },
        {
          "data": {
            "text/plain": [
              "<keras.callbacks.History at 0x29c8546d0>"
            ]
          },
          "execution_count": 10,
          "metadata": {},
          "output_type": "execute_result"
        }
      ],
      "source": [
        "BATCH_SIZE = 64\n",
        "\n",
        "full_model.model.fit_generator(\n",
        "    image_gen,\n",
        "    validation_data=(x_test, keras.utils.np_utils.to_categorical(y_test)),\n",
        "    steps_per_epoch=len(x_train) // BATCH_SIZE,\n",
        "    epochs=5,\n",
        "    shuffle=True,\n",
        "    verbose=2\n",
        ")"
      ]
    },
    {
      "cell_type": "code",
      "execution_count": null,
      "metadata": {
        "id": "Iwjv1Af_IH7o"
      },
      "outputs": [],
      "source": []
    }
  ],
  "metadata": {
    "accelerator": "TPU",
    "colab": {
      "name": "deepaugment-tutorial.ipynb",
      "provenance": []
    },
    "kernelspec": {
      "display_name": "Python 3.8.13 ('tf-cv-deepaug')",
      "language": "python",
      "name": "python3"
    },
    "language_info": {
      "codemirror_mode": {
        "name": "ipython",
        "version": 3
      },
      "file_extension": ".py",
      "mimetype": "text/x-python",
      "name": "python",
      "nbconvert_exporter": "python",
      "pygments_lexer": "ipython3",
      "version": "3.8.13"
    },
    "vscode": {
      "interpreter": {
        "hash": "db86ac6a4485ffe52725bd125bedc4d3eee44f78009ec531f859beb80154cdb0"
      }
    }
  },
  "nbformat": 4,
  "nbformat_minor": 0
}
